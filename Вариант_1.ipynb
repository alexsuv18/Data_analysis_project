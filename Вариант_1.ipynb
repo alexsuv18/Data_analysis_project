{
 "cells": [
  {
   "cell_type": "markdown",
   "metadata": {},
   "source": [
    "## Задание 1\n",
    "Retention – один из самых важных показателей в компании. Ваша задача – написать функцию, которая будет считать retention игроков (по дням от даты регистрации игрока). Данные лежат в папке shared и имеют следующую структуру:"
   ]
  },
  {
   "cell_type": "code",
   "execution_count": 1,
   "metadata": {},
   "outputs": [],
   "source": [
    "import pandas as pd\n",
    "import numpy as np\n",
    "import time\n",
    "import warnings\n",
    "from datetime import datetime\n",
    "from datetime import timedelta\n",
    "import matplotlib.pyplot as plt\n",
    "import seaborn as sns\n",
    "from scipy import stats\n",
    "import pingouin as pg\n",
    "import scipy.stats as ss\n",
    "import pylab\n",
    "import scipy.stats as stats\n",
    "from tqdm.auto import tqdm\n",
    "from scipy.stats import norm\n",
    "%matplotlib inline"
   ]
  },
  {
   "cell_type": "markdown",
   "metadata": {},
   "source": [
    "Выгрузка библиотек "
   ]
  },
  {
   "cell_type": "code",
   "execution_count": 2,
   "metadata": {},
   "outputs": [
    {
     "name": "stderr",
     "output_type": "stream",
     "text": [
      "/opt/tljh/user/lib/python3.7/site-packages/outdated/utils.py:18: OutdatedCacheFailedWarning: Failed to use cache while checking for outdated package.\n",
      "Set the environment variable OUTDATED_RAISE_EXCEPTION=1 for a full traceback.\n",
      "Set the environment variable OUTDATED_IGNORE=1 to disable these warnings.\n",
      "  **kwargs\n",
      "/opt/tljh/user/lib/python3.7/site-packages/outdated/utils.py:18: OutdatedPackageWarning: The package pingouin is out of date. Your version is 0.4.0, the latest is 0.5.4.\n",
      "Set the environment variable OUTDATED_IGNORE=1 to disable these warnings.\n",
      "  **kwargs\n",
      "/opt/tljh/user/lib/python3.7/site-packages/outdated/utils.py:18: OutdatedPackageWarning: The package outdated is out of date. Your version is 0.2.1, the latest is 0.2.2.\n",
      "Set the environment variable OUTDATED_IGNORE=1 to disable these warnings.\n",
      "  **kwargs\n"
     ]
    }
   ],
   "source": [
    "df = pd.read_csv('/home/anatoly/shared/problem1-reg_data.csv', sep = ';')\n",
    "df1 = pd.read_csv('/home/anatoly/shared/problem1-auth_data.csv', sep = ';')"
   ]
  },
  {
   "cell_type": "markdown",
   "metadata": {},
   "source": [
    "Выгрузка данных"
   ]
  },
  {
   "cell_type": "code",
   "execution_count": 3,
   "metadata": {},
   "outputs": [
    {
     "data": {
      "text/html": [
       "<div>\n",
       "<style scoped>\n",
       "    .dataframe tbody tr th:only-of-type {\n",
       "        vertical-align: middle;\n",
       "    }\n",
       "\n",
       "    .dataframe tbody tr th {\n",
       "        vertical-align: top;\n",
       "    }\n",
       "\n",
       "    .dataframe thead th {\n",
       "        text-align: right;\n",
       "    }\n",
       "</style>\n",
       "<table border=\"1\" class=\"dataframe\">\n",
       "  <thead>\n",
       "    <tr style=\"text-align: right;\">\n",
       "      <th></th>\n",
       "      <th>reg_ts</th>\n",
       "      <th>uid</th>\n",
       "    </tr>\n",
       "  </thead>\n",
       "  <tbody>\n",
       "    <tr>\n",
       "      <th>0</th>\n",
       "      <td>911382223</td>\n",
       "      <td>1</td>\n",
       "    </tr>\n",
       "    <tr>\n",
       "      <th>1</th>\n",
       "      <td>932683089</td>\n",
       "      <td>2</td>\n",
       "    </tr>\n",
       "    <tr>\n",
       "      <th>2</th>\n",
       "      <td>947802447</td>\n",
       "      <td>3</td>\n",
       "    </tr>\n",
       "    <tr>\n",
       "      <th>3</th>\n",
       "      <td>959523541</td>\n",
       "      <td>4</td>\n",
       "    </tr>\n",
       "    <tr>\n",
       "      <th>4</th>\n",
       "      <td>969103313</td>\n",
       "      <td>5</td>\n",
       "    </tr>\n",
       "    <tr>\n",
       "      <th>...</th>\n",
       "      <td>...</td>\n",
       "      <td>...</td>\n",
       "    </tr>\n",
       "    <tr>\n",
       "      <th>999995</th>\n",
       "      <td>1600874034</td>\n",
       "      <td>1110618</td>\n",
       "    </tr>\n",
       "    <tr>\n",
       "      <th>999996</th>\n",
       "      <td>1600874086</td>\n",
       "      <td>1110619</td>\n",
       "    </tr>\n",
       "    <tr>\n",
       "      <th>999997</th>\n",
       "      <td>1600874139</td>\n",
       "      <td>1110620</td>\n",
       "    </tr>\n",
       "    <tr>\n",
       "      <th>999998</th>\n",
       "      <td>1600874191</td>\n",
       "      <td>1110621</td>\n",
       "    </tr>\n",
       "    <tr>\n",
       "      <th>999999</th>\n",
       "      <td>1600874244</td>\n",
       "      <td>1110622</td>\n",
       "    </tr>\n",
       "  </tbody>\n",
       "</table>\n",
       "<p>1000000 rows × 2 columns</p>\n",
       "</div>"
      ],
      "text/plain": [
       "            reg_ts      uid\n",
       "0        911382223        1\n",
       "1        932683089        2\n",
       "2        947802447        3\n",
       "3        959523541        4\n",
       "4        969103313        5\n",
       "...            ...      ...\n",
       "999995  1600874034  1110618\n",
       "999996  1600874086  1110619\n",
       "999997  1600874139  1110620\n",
       "999998  1600874191  1110621\n",
       "999999  1600874244  1110622\n",
       "\n",
       "[1000000 rows x 2 columns]"
      ]
     },
     "execution_count": 3,
     "metadata": {},
     "output_type": "execute_result"
    }
   ],
   "source": [
    "df"
   ]
  },
  {
   "cell_type": "markdown",
   "metadata": {},
   "source": [
    "Данные о времени регистрации"
   ]
  },
  {
   "cell_type": "code",
   "execution_count": 4,
   "metadata": {},
   "outputs": [
    {
     "data": {
      "text/html": [
       "<div>\n",
       "<style scoped>\n",
       "    .dataframe tbody tr th:only-of-type {\n",
       "        vertical-align: middle;\n",
       "    }\n",
       "\n",
       "    .dataframe tbody tr th {\n",
       "        vertical-align: top;\n",
       "    }\n",
       "\n",
       "    .dataframe thead th {\n",
       "        text-align: right;\n",
       "    }\n",
       "</style>\n",
       "<table border=\"1\" class=\"dataframe\">\n",
       "  <thead>\n",
       "    <tr style=\"text-align: right;\">\n",
       "      <th></th>\n",
       "      <th>auth_ts</th>\n",
       "      <th>uid</th>\n",
       "    </tr>\n",
       "  </thead>\n",
       "  <tbody>\n",
       "    <tr>\n",
       "      <th>0</th>\n",
       "      <td>911382223</td>\n",
       "      <td>1</td>\n",
       "    </tr>\n",
       "    <tr>\n",
       "      <th>1</th>\n",
       "      <td>932683089</td>\n",
       "      <td>2</td>\n",
       "    </tr>\n",
       "    <tr>\n",
       "      <th>2</th>\n",
       "      <td>932921206</td>\n",
       "      <td>2</td>\n",
       "    </tr>\n",
       "    <tr>\n",
       "      <th>3</th>\n",
       "      <td>933393015</td>\n",
       "      <td>2</td>\n",
       "    </tr>\n",
       "    <tr>\n",
       "      <th>4</th>\n",
       "      <td>933875379</td>\n",
       "      <td>2</td>\n",
       "    </tr>\n",
       "    <tr>\n",
       "      <th>...</th>\n",
       "      <td>...</td>\n",
       "      <td>...</td>\n",
       "    </tr>\n",
       "    <tr>\n",
       "      <th>9601008</th>\n",
       "      <td>1600874034</td>\n",
       "      <td>1110618</td>\n",
       "    </tr>\n",
       "    <tr>\n",
       "      <th>9601009</th>\n",
       "      <td>1600874086</td>\n",
       "      <td>1110619</td>\n",
       "    </tr>\n",
       "    <tr>\n",
       "      <th>9601010</th>\n",
       "      <td>1600874139</td>\n",
       "      <td>1110620</td>\n",
       "    </tr>\n",
       "    <tr>\n",
       "      <th>9601011</th>\n",
       "      <td>1600874191</td>\n",
       "      <td>1110621</td>\n",
       "    </tr>\n",
       "    <tr>\n",
       "      <th>9601012</th>\n",
       "      <td>1600874244</td>\n",
       "      <td>1110622</td>\n",
       "    </tr>\n",
       "  </tbody>\n",
       "</table>\n",
       "<p>9601013 rows × 2 columns</p>\n",
       "</div>"
      ],
      "text/plain": [
       "            auth_ts      uid\n",
       "0         911382223        1\n",
       "1         932683089        2\n",
       "2         932921206        2\n",
       "3         933393015        2\n",
       "4         933875379        2\n",
       "...             ...      ...\n",
       "9601008  1600874034  1110618\n",
       "9601009  1600874086  1110619\n",
       "9601010  1600874139  1110620\n",
       "9601011  1600874191  1110621\n",
       "9601012  1600874244  1110622\n",
       "\n",
       "[9601013 rows x 2 columns]"
      ]
     },
     "execution_count": 4,
     "metadata": {},
     "output_type": "execute_result"
    }
   ],
   "source": [
    "df1"
   ]
  },
  {
   "cell_type": "markdown",
   "metadata": {},
   "source": [
    "Данные о времени захода пользователей в игру"
   ]
  },
  {
   "cell_type": "markdown",
   "metadata": {},
   "source": [
    "## Проведем EDA для первой таблицы (Данные о времени регистрации)"
   ]
  },
  {
   "cell_type": "code",
   "execution_count": 5,
   "metadata": {},
   "outputs": [
    {
     "name": "stdout",
     "output_type": "stream",
     "text": [
      "<class 'pandas.core.frame.DataFrame'>\n",
      "RangeIndex: 1000000 entries, 0 to 999999\n",
      "Data columns (total 2 columns):\n",
      " #   Column  Non-Null Count    Dtype\n",
      "---  ------  --------------    -----\n",
      " 0   reg_ts  1000000 non-null  int64\n",
      " 1   uid     1000000 non-null  int64\n",
      "dtypes: int64(2)\n",
      "memory usage: 15.3 MB\n"
     ]
    }
   ],
   "source": [
    "df.info()"
   ]
  },
  {
   "cell_type": "code",
   "execution_count": 6,
   "metadata": {},
   "outputs": [
    {
     "data": {
      "text/plain": [
       "0"
      ]
     },
     "execution_count": 6,
     "metadata": {},
     "output_type": "execute_result"
    }
   ],
   "source": [
    "df.duplicated().sum()"
   ]
  },
  {
   "cell_type": "markdown",
   "metadata": {},
   "source": [
    "По результату EDA набор данных состоит из 2 колонок:  uid, reg_ts.\n",
    "\n",
    "В наборе данных 1000000 наблюдений\n",
    "\n",
    "В наборе данных нет дубликатов и пропущенных значений"
   ]
  },
  {
   "cell_type": "markdown",
   "metadata": {},
   "source": [
    "## Проведем EDA для второй таблицы (Данные о времени захода пользователей в игру)"
   ]
  },
  {
   "cell_type": "code",
   "execution_count": 7,
   "metadata": {},
   "outputs": [
    {
     "name": "stdout",
     "output_type": "stream",
     "text": [
      "<class 'pandas.core.frame.DataFrame'>\n",
      "RangeIndex: 9601013 entries, 0 to 9601012\n",
      "Data columns (total 2 columns):\n",
      " #   Column   Dtype\n",
      "---  ------   -----\n",
      " 0   auth_ts  int64\n",
      " 1   uid      int64\n",
      "dtypes: int64(2)\n",
      "memory usage: 146.5 MB\n"
     ]
    }
   ],
   "source": [
    "df1.info()"
   ]
  },
  {
   "cell_type": "code",
   "execution_count": 8,
   "metadata": {},
   "outputs": [
    {
     "data": {
      "text/plain": [
       "0"
      ]
     },
     "execution_count": 8,
     "metadata": {},
     "output_type": "execute_result"
    }
   ],
   "source": [
    "df1.duplicated().sum()"
   ]
  },
  {
   "cell_type": "markdown",
   "metadata": {},
   "source": [
    "По результату EDA набор данных состоит из 2 колонок: uid, auth_ts.\n",
    "\n",
    "В наборе данных 9601012 наблюдений\n",
    "\n",
    "В наборе данных нет дубликатов и пропущенных значений"
   ]
  },
  {
   "cell_type": "markdown",
   "metadata": {},
   "source": [
    "Retention\n",
    "RR = (колличество клиентов на конец периода - колличество новых клиентов на период)/колличество клиентов в начале периода"
   ]
  },
  {
   "cell_type": "code",
   "execution_count": 9,
   "metadata": {},
   "outputs": [],
   "source": [
    "df['reg_ts'] = df['reg_ts'].apply(datetime.fromtimestamp)"
   ]
  },
  {
   "cell_type": "markdown",
   "metadata": {},
   "source": [
    "Перевод времени в дату, месяц, год, часы, минуты, секунду"
   ]
  },
  {
   "cell_type": "code",
   "execution_count": 10,
   "metadata": {},
   "outputs": [],
   "source": [
    "df1['auth_ts'] = df1['auth_ts'].apply(datetime.fromtimestamp)"
   ]
  },
  {
   "cell_type": "markdown",
   "metadata": {},
   "source": [
    "Перевод времени в дату, месяц, год, часы, минуты, секунду"
   ]
  },
  {
   "cell_type": "code",
   "execution_count": 11,
   "metadata": {},
   "outputs": [],
   "source": [
    "vsa = df1.merge(df, on = 'uid')"
   ]
  },
  {
   "cell_type": "markdown",
   "metadata": {},
   "source": [
    "Соединяем две таблицы в одну "
   ]
  },
  {
   "cell_type": "code",
   "execution_count": 12,
   "metadata": {},
   "outputs": [
    {
     "data": {
      "text/html": [
       "<div>\n",
       "<style scoped>\n",
       "    .dataframe tbody tr th:only-of-type {\n",
       "        vertical-align: middle;\n",
       "    }\n",
       "\n",
       "    .dataframe tbody tr th {\n",
       "        vertical-align: top;\n",
       "    }\n",
       "\n",
       "    .dataframe thead th {\n",
       "        text-align: right;\n",
       "    }\n",
       "</style>\n",
       "<table border=\"1\" class=\"dataframe\">\n",
       "  <thead>\n",
       "    <tr style=\"text-align: right;\">\n",
       "      <th></th>\n",
       "      <th>auth_ts</th>\n",
       "      <th>uid</th>\n",
       "      <th>reg_ts</th>\n",
       "    </tr>\n",
       "  </thead>\n",
       "  <tbody>\n",
       "    <tr>\n",
       "      <th>0</th>\n",
       "      <td>1998-11-18 12:43:43</td>\n",
       "      <td>1</td>\n",
       "      <td>1998-11-18 12:43:43</td>\n",
       "    </tr>\n",
       "    <tr>\n",
       "      <th>1</th>\n",
       "      <td>1999-07-23 02:38:09</td>\n",
       "      <td>2</td>\n",
       "      <td>1999-07-23 02:38:09</td>\n",
       "    </tr>\n",
       "    <tr>\n",
       "      <th>2</th>\n",
       "      <td>1999-07-25 20:46:46</td>\n",
       "      <td>2</td>\n",
       "      <td>1999-07-23 02:38:09</td>\n",
       "    </tr>\n",
       "    <tr>\n",
       "      <th>3</th>\n",
       "      <td>1999-07-31 07:50:15</td>\n",
       "      <td>2</td>\n",
       "      <td>1999-07-23 02:38:09</td>\n",
       "    </tr>\n",
       "    <tr>\n",
       "      <th>4</th>\n",
       "      <td>1999-08-05 21:49:39</td>\n",
       "      <td>2</td>\n",
       "      <td>1999-07-23 02:38:09</td>\n",
       "    </tr>\n",
       "  </tbody>\n",
       "</table>\n",
       "</div>"
      ],
      "text/plain": [
       "              auth_ts  uid              reg_ts\n",
       "0 1998-11-18 12:43:43    1 1998-11-18 12:43:43\n",
       "1 1999-07-23 02:38:09    2 1999-07-23 02:38:09\n",
       "2 1999-07-25 20:46:46    2 1999-07-23 02:38:09\n",
       "3 1999-07-31 07:50:15    2 1999-07-23 02:38:09\n",
       "4 1999-08-05 21:49:39    2 1999-07-23 02:38:09"
      ]
     },
     "execution_count": 12,
     "metadata": {},
     "output_type": "execute_result"
    }
   ],
   "source": [
    "vsa.head()"
   ]
  },
  {
   "cell_type": "markdown",
   "metadata": {},
   "source": [
    "Единая таблица (5 первых строк)"
   ]
  },
  {
   "cell_type": "markdown",
   "metadata": {},
   "source": [
    "## Проведем EDA для общей таблицы"
   ]
  },
  {
   "cell_type": "code",
   "execution_count": 13,
   "metadata": {},
   "outputs": [
    {
     "name": "stdout",
     "output_type": "stream",
     "text": [
      "<class 'pandas.core.frame.DataFrame'>\n",
      "Int64Index: 9601013 entries, 0 to 9601012\n",
      "Data columns (total 3 columns):\n",
      " #   Column   Dtype         \n",
      "---  ------   -----         \n",
      " 0   auth_ts  datetime64[ns]\n",
      " 1   uid      int64         \n",
      " 2   reg_ts   datetime64[ns]\n",
      "dtypes: datetime64[ns](2), int64(1)\n",
      "memory usage: 293.0 MB\n"
     ]
    }
   ],
   "source": [
    "vsa.info()"
   ]
  },
  {
   "cell_type": "code",
   "execution_count": 14,
   "metadata": {},
   "outputs": [
    {
     "data": {
      "text/plain": [
       "0"
      ]
     },
     "execution_count": 14,
     "metadata": {},
     "output_type": "execute_result"
    }
   ],
   "source": [
    "vsa.duplicated().sum()"
   ]
  },
  {
   "cell_type": "markdown",
   "metadata": {},
   "source": [
    "По результату EDA набор данных состоит из 3 колонок:\n",
    "auth_ts,\n",
    "uid, \n",
    "reg_ts."
   ]
  },
  {
   "cell_type": "markdown",
   "metadata": {},
   "source": [
    "В наборе данных 9601013 наблюдений"
   ]
  },
  {
   "cell_type": "markdown",
   "metadata": {},
   "source": [
    "В наборе данных нет дубликатов и пропущенных значений"
   ]
  },
  {
   "cell_type": "code",
   "execution_count": 15,
   "metadata": {},
   "outputs": [
    {
     "data": {
      "text/plain": [
       "reg_ts    2020-09-23 18:17:24\n",
       "auth_ts   2020-09-23 18:17:24\n",
       "dtype: datetime64[ns]"
      ]
     },
     "execution_count": 15,
     "metadata": {},
     "output_type": "execute_result"
    }
   ],
   "source": [
    "vsa[['reg_ts', 'auth_ts']].max()"
   ]
  },
  {
   "cell_type": "code",
   "execution_count": 16,
   "metadata": {},
   "outputs": [
    {
     "data": {
      "text/plain": [
       "reg_ts    1998-11-18 12:43:43\n",
       "auth_ts   1998-11-18 12:43:43\n",
       "dtype: datetime64[ns]"
      ]
     },
     "execution_count": 16,
     "metadata": {},
     "output_type": "execute_result"
    }
   ],
   "source": [
    "vsa[['reg_ts', 'auth_ts']].min()"
   ]
  },
  {
   "cell_type": "code",
   "execution_count": 17,
   "metadata": {},
   "outputs": [],
   "source": [
    "vsa.rename(columns = {'uid':'user_id', 'auth_ts':'end_date', 'reg_ts' : 'start_date'}, inplace = True )"
   ]
  },
  {
   "cell_type": "markdown",
   "metadata": {},
   "source": [
    "Переименовываем колонки для удобства"
   ]
  },
  {
   "cell_type": "code",
   "execution_count": 18,
   "metadata": {},
   "outputs": [],
   "source": [
    "vsa['start_date'] = [pd.Timestamp(x,unit='s').date() for x in vsa['start_date']]\n",
    "vsa['end_date'] = [pd.Timestamp(x,unit='s').date() for x in vsa['end_date']]"
   ]
  },
  {
   "cell_type": "markdown",
   "metadata": {},
   "source": [
    "Переводим данные о времени события в Timestamp"
   ]
  },
  {
   "cell_type": "code",
   "execution_count": 19,
   "metadata": {},
   "outputs": [],
   "source": [
    "vsa['end_date'] = pd.to_datetime(vsa['end_date'])\n",
    "vsa['start_date'] = pd.to_datetime(vsa['start_date'])"
   ]
  },
  {
   "cell_type": "markdown",
   "metadata": {},
   "source": [
    "Переводим данные о времени события в datetime64[ns]"
   ]
  },
  {
   "cell_type": "code",
   "execution_count": 20,
   "metadata": {},
   "outputs": [],
   "source": [
    "def retention_rate(df, start, end):\n",
    "\n",
    "    \"\"\"\n",
    "    Фунцкия считает retention, а также принимает на вход датасет и ещё два параметра: начало и конец периода\n",
    "    \"\"\"\n",
    "    df['days'] = (df['end_date'] - df['start_date']).dt.days + 1\n",
    "    cohort_counts = vsa.groupby(['start_date', 'days'], as_index = False) \\\n",
    "    .agg({'user_id':'nunique'}) \\\n",
    "    .pivot(index='start_date', columns='days', values='user_id')[start:end]\n",
    "\n",
    "    base = cohort_counts[1]\n",
    "    retention = cohort_counts.divide(base, axis=0).round(3)\n",
    "    \n",
    "    plt.figure(figsize=(18,14))\n",
    "    plt.title('Retention',\n",
    "                  color = 'black',\n",
    "                  fontsize = 16,\n",
    "                  x = 0.5)\n",
    "    plt.xlabel(' ')\n",
    "    plt.ylabel(' ')\n",
    "    plt.xticks(color = 'black',\n",
    "                   fontsize = 16,\n",
    "                   rotation = 90)\n",
    "    plt.yticks(rotation = 0,\n",
    "                   color = 'black',\n",
    "                   fontsize = 16)\n",
    "    ax = sns.heatmap(data=retention.iloc[:,0:31], annot=True, fmt='.0%', vmin=0.0, vmax=0.15, cmap='PiYG')\n",
    "    ax.set_yticklabels(retention.index)\n",
    "    fig=ax.get_figure()\n",
    "    fig.savefig(\"Retention.png\")\n",
    "    \n",
    "    return cohort_counts.iloc[:,0:31] "
   ]
  },
  {
   "cell_type": "markdown",
   "metadata": {},
   "source": [
    "Считаем ретеншен по дневным когортам и дневным интервалам."
   ]
  },
  {
   "cell_type": "code",
   "execution_count": 21,
   "metadata": {},
   "outputs": [
    {
     "data": {
      "text/html": [
       "<div>\n",
       "<style scoped>\n",
       "    .dataframe tbody tr th:only-of-type {\n",
       "        vertical-align: middle;\n",
       "    }\n",
       "\n",
       "    .dataframe tbody tr th {\n",
       "        vertical-align: top;\n",
       "    }\n",
       "\n",
       "    .dataframe thead th {\n",
       "        text-align: right;\n",
       "    }\n",
       "</style>\n",
       "<table border=\"1\" class=\"dataframe\">\n",
       "  <thead>\n",
       "    <tr style=\"text-align: right;\">\n",
       "      <th>days</th>\n",
       "      <th>1</th>\n",
       "      <th>2</th>\n",
       "      <th>3</th>\n",
       "      <th>4</th>\n",
       "      <th>5</th>\n",
       "      <th>6</th>\n",
       "      <th>7</th>\n",
       "      <th>8</th>\n",
       "      <th>9</th>\n",
       "      <th>10</th>\n",
       "      <th>...</th>\n",
       "      <th>22</th>\n",
       "      <th>23</th>\n",
       "      <th>24</th>\n",
       "      <th>25</th>\n",
       "      <th>26</th>\n",
       "      <th>27</th>\n",
       "      <th>28</th>\n",
       "      <th>29</th>\n",
       "      <th>30</th>\n",
       "      <th>31</th>\n",
       "    </tr>\n",
       "    <tr>\n",
       "      <th>start_date</th>\n",
       "      <th></th>\n",
       "      <th></th>\n",
       "      <th></th>\n",
       "      <th></th>\n",
       "      <th></th>\n",
       "      <th></th>\n",
       "      <th></th>\n",
       "      <th></th>\n",
       "      <th></th>\n",
       "      <th></th>\n",
       "      <th></th>\n",
       "      <th></th>\n",
       "      <th></th>\n",
       "      <th></th>\n",
       "      <th></th>\n",
       "      <th></th>\n",
       "      <th></th>\n",
       "      <th></th>\n",
       "      <th></th>\n",
       "      <th></th>\n",
       "      <th></th>\n",
       "    </tr>\n",
       "  </thead>\n",
       "  <tbody>\n",
       "    <tr>\n",
       "      <th>2020-09-01</th>\n",
       "      <td>1585.0</td>\n",
       "      <td>33.0</td>\n",
       "      <td>71.0</td>\n",
       "      <td>60.0</td>\n",
       "      <td>81.0</td>\n",
       "      <td>94.0</td>\n",
       "      <td>94.0</td>\n",
       "      <td>97.0</td>\n",
       "      <td>76.0</td>\n",
       "      <td>78.0</td>\n",
       "      <td>...</td>\n",
       "      <td>67.0</td>\n",
       "      <td>29.0</td>\n",
       "      <td>0.0</td>\n",
       "      <td>0.0</td>\n",
       "      <td>0.0</td>\n",
       "      <td>0.0</td>\n",
       "      <td>0.0</td>\n",
       "      <td>0.0</td>\n",
       "      <td>0.0</td>\n",
       "      <td>0.0</td>\n",
       "    </tr>\n",
       "    <tr>\n",
       "      <th>2020-09-02</th>\n",
       "      <td>1588.0</td>\n",
       "      <td>33.0</td>\n",
       "      <td>68.0</td>\n",
       "      <td>66.0</td>\n",
       "      <td>98.0</td>\n",
       "      <td>97.0</td>\n",
       "      <td>108.0</td>\n",
       "      <td>97.0</td>\n",
       "      <td>82.0</td>\n",
       "      <td>60.0</td>\n",
       "      <td>...</td>\n",
       "      <td>49.0</td>\n",
       "      <td>0.0</td>\n",
       "      <td>0.0</td>\n",
       "      <td>0.0</td>\n",
       "      <td>0.0</td>\n",
       "      <td>0.0</td>\n",
       "      <td>0.0</td>\n",
       "      <td>0.0</td>\n",
       "      <td>0.0</td>\n",
       "      <td>0.0</td>\n",
       "    </tr>\n",
       "    <tr>\n",
       "      <th>2020-09-03</th>\n",
       "      <td>1591.0</td>\n",
       "      <td>38.0</td>\n",
       "      <td>81.0</td>\n",
       "      <td>81.0</td>\n",
       "      <td>99.0</td>\n",
       "      <td>108.0</td>\n",
       "      <td>135.0</td>\n",
       "      <td>98.0</td>\n",
       "      <td>82.0</td>\n",
       "      <td>102.0</td>\n",
       "      <td>...</td>\n",
       "      <td>0.0</td>\n",
       "      <td>0.0</td>\n",
       "      <td>0.0</td>\n",
       "      <td>0.0</td>\n",
       "      <td>0.0</td>\n",
       "      <td>0.0</td>\n",
       "      <td>0.0</td>\n",
       "      <td>0.0</td>\n",
       "      <td>0.0</td>\n",
       "      <td>0.0</td>\n",
       "    </tr>\n",
       "    <tr>\n",
       "      <th>2020-09-04</th>\n",
       "      <td>1593.0</td>\n",
       "      <td>30.0</td>\n",
       "      <td>62.0</td>\n",
       "      <td>79.0</td>\n",
       "      <td>77.0</td>\n",
       "      <td>108.0</td>\n",
       "      <td>114.0</td>\n",
       "      <td>79.0</td>\n",
       "      <td>79.0</td>\n",
       "      <td>74.0</td>\n",
       "      <td>...</td>\n",
       "      <td>0.0</td>\n",
       "      <td>0.0</td>\n",
       "      <td>0.0</td>\n",
       "      <td>0.0</td>\n",
       "      <td>0.0</td>\n",
       "      <td>0.0</td>\n",
       "      <td>0.0</td>\n",
       "      <td>0.0</td>\n",
       "      <td>0.0</td>\n",
       "      <td>0.0</td>\n",
       "    </tr>\n",
       "    <tr>\n",
       "      <th>2020-09-05</th>\n",
       "      <td>1596.0</td>\n",
       "      <td>34.0</td>\n",
       "      <td>66.0</td>\n",
       "      <td>70.0</td>\n",
       "      <td>79.0</td>\n",
       "      <td>105.0</td>\n",
       "      <td>114.0</td>\n",
       "      <td>84.0</td>\n",
       "      <td>83.0</td>\n",
       "      <td>85.0</td>\n",
       "      <td>...</td>\n",
       "      <td>0.0</td>\n",
       "      <td>0.0</td>\n",
       "      <td>0.0</td>\n",
       "      <td>0.0</td>\n",
       "      <td>0.0</td>\n",
       "      <td>0.0</td>\n",
       "      <td>0.0</td>\n",
       "      <td>0.0</td>\n",
       "      <td>0.0</td>\n",
       "      <td>0.0</td>\n",
       "    </tr>\n",
       "    <tr>\n",
       "      <th>2020-09-06</th>\n",
       "      <td>1598.0</td>\n",
       "      <td>56.0</td>\n",
       "      <td>69.0</td>\n",
       "      <td>82.0</td>\n",
       "      <td>93.0</td>\n",
       "      <td>93.0</td>\n",
       "      <td>111.0</td>\n",
       "      <td>103.0</td>\n",
       "      <td>90.0</td>\n",
       "      <td>89.0</td>\n",
       "      <td>...</td>\n",
       "      <td>0.0</td>\n",
       "      <td>0.0</td>\n",
       "      <td>0.0</td>\n",
       "      <td>0.0</td>\n",
       "      <td>0.0</td>\n",
       "      <td>0.0</td>\n",
       "      <td>0.0</td>\n",
       "      <td>0.0</td>\n",
       "      <td>0.0</td>\n",
       "      <td>0.0</td>\n",
       "    </tr>\n",
       "    <tr>\n",
       "      <th>2020-09-07</th>\n",
       "      <td>1601.0</td>\n",
       "      <td>44.0</td>\n",
       "      <td>66.0</td>\n",
       "      <td>88.0</td>\n",
       "      <td>80.0</td>\n",
       "      <td>107.0</td>\n",
       "      <td>102.0</td>\n",
       "      <td>92.0</td>\n",
       "      <td>67.0</td>\n",
       "      <td>75.0</td>\n",
       "      <td>...</td>\n",
       "      <td>0.0</td>\n",
       "      <td>0.0</td>\n",
       "      <td>0.0</td>\n",
       "      <td>0.0</td>\n",
       "      <td>0.0</td>\n",
       "      <td>0.0</td>\n",
       "      <td>0.0</td>\n",
       "      <td>0.0</td>\n",
       "      <td>0.0</td>\n",
       "      <td>0.0</td>\n",
       "    </tr>\n",
       "    <tr>\n",
       "      <th>2020-09-08</th>\n",
       "      <td>1604.0</td>\n",
       "      <td>31.0</td>\n",
       "      <td>57.0</td>\n",
       "      <td>55.0</td>\n",
       "      <td>94.0</td>\n",
       "      <td>113.0</td>\n",
       "      <td>116.0</td>\n",
       "      <td>107.0</td>\n",
       "      <td>80.0</td>\n",
       "      <td>90.0</td>\n",
       "      <td>...</td>\n",
       "      <td>0.0</td>\n",
       "      <td>0.0</td>\n",
       "      <td>0.0</td>\n",
       "      <td>0.0</td>\n",
       "      <td>0.0</td>\n",
       "      <td>0.0</td>\n",
       "      <td>0.0</td>\n",
       "      <td>0.0</td>\n",
       "      <td>0.0</td>\n",
       "      <td>0.0</td>\n",
       "    </tr>\n",
       "    <tr>\n",
       "      <th>2020-09-09</th>\n",
       "      <td>1606.0</td>\n",
       "      <td>34.0</td>\n",
       "      <td>54.0</td>\n",
       "      <td>72.0</td>\n",
       "      <td>101.0</td>\n",
       "      <td>109.0</td>\n",
       "      <td>95.0</td>\n",
       "      <td>97.0</td>\n",
       "      <td>73.0</td>\n",
       "      <td>88.0</td>\n",
       "      <td>...</td>\n",
       "      <td>0.0</td>\n",
       "      <td>0.0</td>\n",
       "      <td>0.0</td>\n",
       "      <td>0.0</td>\n",
       "      <td>0.0</td>\n",
       "      <td>0.0</td>\n",
       "      <td>0.0</td>\n",
       "      <td>0.0</td>\n",
       "      <td>0.0</td>\n",
       "      <td>0.0</td>\n",
       "    </tr>\n",
       "    <tr>\n",
       "      <th>2020-09-10</th>\n",
       "      <td>1609.0</td>\n",
       "      <td>29.0</td>\n",
       "      <td>71.0</td>\n",
       "      <td>74.0</td>\n",
       "      <td>70.0</td>\n",
       "      <td>112.0</td>\n",
       "      <td>93.0</td>\n",
       "      <td>110.0</td>\n",
       "      <td>80.0</td>\n",
       "      <td>66.0</td>\n",
       "      <td>...</td>\n",
       "      <td>0.0</td>\n",
       "      <td>0.0</td>\n",
       "      <td>0.0</td>\n",
       "      <td>0.0</td>\n",
       "      <td>0.0</td>\n",
       "      <td>0.0</td>\n",
       "      <td>0.0</td>\n",
       "      <td>0.0</td>\n",
       "      <td>0.0</td>\n",
       "      <td>0.0</td>\n",
       "    </tr>\n",
       "    <tr>\n",
       "      <th>2020-09-11</th>\n",
       "      <td>1611.0</td>\n",
       "      <td>23.0</td>\n",
       "      <td>64.0</td>\n",
       "      <td>63.0</td>\n",
       "      <td>99.0</td>\n",
       "      <td>102.0</td>\n",
       "      <td>111.0</td>\n",
       "      <td>101.0</td>\n",
       "      <td>79.0</td>\n",
       "      <td>63.0</td>\n",
       "      <td>...</td>\n",
       "      <td>0.0</td>\n",
       "      <td>0.0</td>\n",
       "      <td>0.0</td>\n",
       "      <td>0.0</td>\n",
       "      <td>0.0</td>\n",
       "      <td>0.0</td>\n",
       "      <td>0.0</td>\n",
       "      <td>0.0</td>\n",
       "      <td>0.0</td>\n",
       "      <td>0.0</td>\n",
       "    </tr>\n",
       "    <tr>\n",
       "      <th>2020-09-12</th>\n",
       "      <td>1614.0</td>\n",
       "      <td>29.0</td>\n",
       "      <td>66.0</td>\n",
       "      <td>64.0</td>\n",
       "      <td>65.0</td>\n",
       "      <td>102.0</td>\n",
       "      <td>111.0</td>\n",
       "      <td>93.0</td>\n",
       "      <td>75.0</td>\n",
       "      <td>83.0</td>\n",
       "      <td>...</td>\n",
       "      <td>0.0</td>\n",
       "      <td>0.0</td>\n",
       "      <td>0.0</td>\n",
       "      <td>0.0</td>\n",
       "      <td>0.0</td>\n",
       "      <td>0.0</td>\n",
       "      <td>0.0</td>\n",
       "      <td>0.0</td>\n",
       "      <td>0.0</td>\n",
       "      <td>0.0</td>\n",
       "    </tr>\n",
       "    <tr>\n",
       "      <th>2020-09-13</th>\n",
       "      <td>1617.0</td>\n",
       "      <td>36.0</td>\n",
       "      <td>72.0</td>\n",
       "      <td>64.0</td>\n",
       "      <td>81.0</td>\n",
       "      <td>100.0</td>\n",
       "      <td>107.0</td>\n",
       "      <td>84.0</td>\n",
       "      <td>78.0</td>\n",
       "      <td>81.0</td>\n",
       "      <td>...</td>\n",
       "      <td>0.0</td>\n",
       "      <td>0.0</td>\n",
       "      <td>0.0</td>\n",
       "      <td>0.0</td>\n",
       "      <td>0.0</td>\n",
       "      <td>0.0</td>\n",
       "      <td>0.0</td>\n",
       "      <td>0.0</td>\n",
       "      <td>0.0</td>\n",
       "      <td>0.0</td>\n",
       "    </tr>\n",
       "    <tr>\n",
       "      <th>2020-09-14</th>\n",
       "      <td>1620.0</td>\n",
       "      <td>32.0</td>\n",
       "      <td>63.0</td>\n",
       "      <td>69.0</td>\n",
       "      <td>94.0</td>\n",
       "      <td>102.0</td>\n",
       "      <td>111.0</td>\n",
       "      <td>111.0</td>\n",
       "      <td>72.0</td>\n",
       "      <td>55.0</td>\n",
       "      <td>...</td>\n",
       "      <td>0.0</td>\n",
       "      <td>0.0</td>\n",
       "      <td>0.0</td>\n",
       "      <td>0.0</td>\n",
       "      <td>0.0</td>\n",
       "      <td>0.0</td>\n",
       "      <td>0.0</td>\n",
       "      <td>0.0</td>\n",
       "      <td>0.0</td>\n",
       "      <td>0.0</td>\n",
       "    </tr>\n",
       "    <tr>\n",
       "      <th>2020-09-15</th>\n",
       "      <td>1622.0</td>\n",
       "      <td>37.0</td>\n",
       "      <td>65.0</td>\n",
       "      <td>73.0</td>\n",
       "      <td>98.0</td>\n",
       "      <td>93.0</td>\n",
       "      <td>113.0</td>\n",
       "      <td>87.0</td>\n",
       "      <td>46.0</td>\n",
       "      <td>0.0</td>\n",
       "      <td>...</td>\n",
       "      <td>0.0</td>\n",
       "      <td>0.0</td>\n",
       "      <td>0.0</td>\n",
       "      <td>0.0</td>\n",
       "      <td>0.0</td>\n",
       "      <td>0.0</td>\n",
       "      <td>0.0</td>\n",
       "      <td>0.0</td>\n",
       "      <td>0.0</td>\n",
       "      <td>0.0</td>\n",
       "    </tr>\n",
       "    <tr>\n",
       "      <th>2020-09-16</th>\n",
       "      <td>1625.0</td>\n",
       "      <td>34.0</td>\n",
       "      <td>67.0</td>\n",
       "      <td>72.0</td>\n",
       "      <td>81.0</td>\n",
       "      <td>99.0</td>\n",
       "      <td>125.0</td>\n",
       "      <td>65.0</td>\n",
       "      <td>0.0</td>\n",
       "      <td>0.0</td>\n",
       "      <td>...</td>\n",
       "      <td>0.0</td>\n",
       "      <td>0.0</td>\n",
       "      <td>0.0</td>\n",
       "      <td>0.0</td>\n",
       "      <td>0.0</td>\n",
       "      <td>0.0</td>\n",
       "      <td>0.0</td>\n",
       "      <td>0.0</td>\n",
       "      <td>0.0</td>\n",
       "      <td>0.0</td>\n",
       "    </tr>\n",
       "    <tr>\n",
       "      <th>2020-09-17</th>\n",
       "      <td>1627.0</td>\n",
       "      <td>27.0</td>\n",
       "      <td>67.0</td>\n",
       "      <td>71.0</td>\n",
       "      <td>96.0</td>\n",
       "      <td>101.0</td>\n",
       "      <td>90.0</td>\n",
       "      <td>0.0</td>\n",
       "      <td>0.0</td>\n",
       "      <td>0.0</td>\n",
       "      <td>...</td>\n",
       "      <td>0.0</td>\n",
       "      <td>0.0</td>\n",
       "      <td>0.0</td>\n",
       "      <td>0.0</td>\n",
       "      <td>0.0</td>\n",
       "      <td>0.0</td>\n",
       "      <td>0.0</td>\n",
       "      <td>0.0</td>\n",
       "      <td>0.0</td>\n",
       "      <td>0.0</td>\n",
       "    </tr>\n",
       "    <tr>\n",
       "      <th>2020-09-18</th>\n",
       "      <td>1630.0</td>\n",
       "      <td>35.0</td>\n",
       "      <td>69.0</td>\n",
       "      <td>74.0</td>\n",
       "      <td>76.0</td>\n",
       "      <td>73.0</td>\n",
       "      <td>0.0</td>\n",
       "      <td>0.0</td>\n",
       "      <td>0.0</td>\n",
       "      <td>0.0</td>\n",
       "      <td>...</td>\n",
       "      <td>0.0</td>\n",
       "      <td>0.0</td>\n",
       "      <td>0.0</td>\n",
       "      <td>0.0</td>\n",
       "      <td>0.0</td>\n",
       "      <td>0.0</td>\n",
       "      <td>0.0</td>\n",
       "      <td>0.0</td>\n",
       "      <td>0.0</td>\n",
       "      <td>0.0</td>\n",
       "    </tr>\n",
       "    <tr>\n",
       "      <th>2020-09-19</th>\n",
       "      <td>1633.0</td>\n",
       "      <td>30.0</td>\n",
       "      <td>59.0</td>\n",
       "      <td>77.0</td>\n",
       "      <td>67.0</td>\n",
       "      <td>0.0</td>\n",
       "      <td>0.0</td>\n",
       "      <td>0.0</td>\n",
       "      <td>0.0</td>\n",
       "      <td>0.0</td>\n",
       "      <td>...</td>\n",
       "      <td>0.0</td>\n",
       "      <td>0.0</td>\n",
       "      <td>0.0</td>\n",
       "      <td>0.0</td>\n",
       "      <td>0.0</td>\n",
       "      <td>0.0</td>\n",
       "      <td>0.0</td>\n",
       "      <td>0.0</td>\n",
       "      <td>0.0</td>\n",
       "      <td>0.0</td>\n",
       "    </tr>\n",
       "    <tr>\n",
       "      <th>2020-09-20</th>\n",
       "      <td>1636.0</td>\n",
       "      <td>38.0</td>\n",
       "      <td>71.0</td>\n",
       "      <td>57.0</td>\n",
       "      <td>0.0</td>\n",
       "      <td>0.0</td>\n",
       "      <td>0.0</td>\n",
       "      <td>0.0</td>\n",
       "      <td>0.0</td>\n",
       "      <td>0.0</td>\n",
       "      <td>...</td>\n",
       "      <td>0.0</td>\n",
       "      <td>0.0</td>\n",
       "      <td>0.0</td>\n",
       "      <td>0.0</td>\n",
       "      <td>0.0</td>\n",
       "      <td>0.0</td>\n",
       "      <td>0.0</td>\n",
       "      <td>0.0</td>\n",
       "      <td>0.0</td>\n",
       "      <td>0.0</td>\n",
       "    </tr>\n",
       "    <tr>\n",
       "      <th>2020-09-21</th>\n",
       "      <td>1638.0</td>\n",
       "      <td>29.0</td>\n",
       "      <td>53.0</td>\n",
       "      <td>0.0</td>\n",
       "      <td>0.0</td>\n",
       "      <td>0.0</td>\n",
       "      <td>0.0</td>\n",
       "      <td>0.0</td>\n",
       "      <td>0.0</td>\n",
       "      <td>0.0</td>\n",
       "      <td>...</td>\n",
       "      <td>0.0</td>\n",
       "      <td>0.0</td>\n",
       "      <td>0.0</td>\n",
       "      <td>0.0</td>\n",
       "      <td>0.0</td>\n",
       "      <td>0.0</td>\n",
       "      <td>0.0</td>\n",
       "      <td>0.0</td>\n",
       "      <td>0.0</td>\n",
       "      <td>0.0</td>\n",
       "    </tr>\n",
       "    <tr>\n",
       "      <th>2020-09-22</th>\n",
       "      <td>1641.0</td>\n",
       "      <td>22.0</td>\n",
       "      <td>0.0</td>\n",
       "      <td>0.0</td>\n",
       "      <td>0.0</td>\n",
       "      <td>0.0</td>\n",
       "      <td>0.0</td>\n",
       "      <td>0.0</td>\n",
       "      <td>0.0</td>\n",
       "      <td>0.0</td>\n",
       "      <td>...</td>\n",
       "      <td>0.0</td>\n",
       "      <td>0.0</td>\n",
       "      <td>0.0</td>\n",
       "      <td>0.0</td>\n",
       "      <td>0.0</td>\n",
       "      <td>0.0</td>\n",
       "      <td>0.0</td>\n",
       "      <td>0.0</td>\n",
       "      <td>0.0</td>\n",
       "      <td>0.0</td>\n",
       "    </tr>\n",
       "    <tr>\n",
       "      <th>2020-09-23</th>\n",
       "      <td>1253.0</td>\n",
       "      <td>0.0</td>\n",
       "      <td>0.0</td>\n",
       "      <td>0.0</td>\n",
       "      <td>0.0</td>\n",
       "      <td>0.0</td>\n",
       "      <td>0.0</td>\n",
       "      <td>0.0</td>\n",
       "      <td>0.0</td>\n",
       "      <td>0.0</td>\n",
       "      <td>...</td>\n",
       "      <td>0.0</td>\n",
       "      <td>0.0</td>\n",
       "      <td>0.0</td>\n",
       "      <td>0.0</td>\n",
       "      <td>0.0</td>\n",
       "      <td>0.0</td>\n",
       "      <td>0.0</td>\n",
       "      <td>0.0</td>\n",
       "      <td>0.0</td>\n",
       "      <td>0.0</td>\n",
       "    </tr>\n",
       "  </tbody>\n",
       "</table>\n",
       "<p>23 rows × 31 columns</p>\n",
       "</div>"
      ],
      "text/plain": [
       "days            1     2     3     4      5      6      7      8     9      10  \\\n",
       "start_date                                                                      \n",
       "2020-09-01  1585.0  33.0  71.0  60.0   81.0   94.0   94.0   97.0  76.0   78.0   \n",
       "2020-09-02  1588.0  33.0  68.0  66.0   98.0   97.0  108.0   97.0  82.0   60.0   \n",
       "2020-09-03  1591.0  38.0  81.0  81.0   99.0  108.0  135.0   98.0  82.0  102.0   \n",
       "2020-09-04  1593.0  30.0  62.0  79.0   77.0  108.0  114.0   79.0  79.0   74.0   \n",
       "2020-09-05  1596.0  34.0  66.0  70.0   79.0  105.0  114.0   84.0  83.0   85.0   \n",
       "2020-09-06  1598.0  56.0  69.0  82.0   93.0   93.0  111.0  103.0  90.0   89.0   \n",
       "2020-09-07  1601.0  44.0  66.0  88.0   80.0  107.0  102.0   92.0  67.0   75.0   \n",
       "2020-09-08  1604.0  31.0  57.0  55.0   94.0  113.0  116.0  107.0  80.0   90.0   \n",
       "2020-09-09  1606.0  34.0  54.0  72.0  101.0  109.0   95.0   97.0  73.0   88.0   \n",
       "2020-09-10  1609.0  29.0  71.0  74.0   70.0  112.0   93.0  110.0  80.0   66.0   \n",
       "2020-09-11  1611.0  23.0  64.0  63.0   99.0  102.0  111.0  101.0  79.0   63.0   \n",
       "2020-09-12  1614.0  29.0  66.0  64.0   65.0  102.0  111.0   93.0  75.0   83.0   \n",
       "2020-09-13  1617.0  36.0  72.0  64.0   81.0  100.0  107.0   84.0  78.0   81.0   \n",
       "2020-09-14  1620.0  32.0  63.0  69.0   94.0  102.0  111.0  111.0  72.0   55.0   \n",
       "2020-09-15  1622.0  37.0  65.0  73.0   98.0   93.0  113.0   87.0  46.0    0.0   \n",
       "2020-09-16  1625.0  34.0  67.0  72.0   81.0   99.0  125.0   65.0   0.0    0.0   \n",
       "2020-09-17  1627.0  27.0  67.0  71.0   96.0  101.0   90.0    0.0   0.0    0.0   \n",
       "2020-09-18  1630.0  35.0  69.0  74.0   76.0   73.0    0.0    0.0   0.0    0.0   \n",
       "2020-09-19  1633.0  30.0  59.0  77.0   67.0    0.0    0.0    0.0   0.0    0.0   \n",
       "2020-09-20  1636.0  38.0  71.0  57.0    0.0    0.0    0.0    0.0   0.0    0.0   \n",
       "2020-09-21  1638.0  29.0  53.0   0.0    0.0    0.0    0.0    0.0   0.0    0.0   \n",
       "2020-09-22  1641.0  22.0   0.0   0.0    0.0    0.0    0.0    0.0   0.0    0.0   \n",
       "2020-09-23  1253.0   0.0   0.0   0.0    0.0    0.0    0.0    0.0   0.0    0.0   \n",
       "\n",
       "days        ...    22    23   24   25   26   27   28   29   30   31  \n",
       "start_date  ...                                                      \n",
       "2020-09-01  ...  67.0  29.0  0.0  0.0  0.0  0.0  0.0  0.0  0.0  0.0  \n",
       "2020-09-02  ...  49.0   0.0  0.0  0.0  0.0  0.0  0.0  0.0  0.0  0.0  \n",
       "2020-09-03  ...   0.0   0.0  0.0  0.0  0.0  0.0  0.0  0.0  0.0  0.0  \n",
       "2020-09-04  ...   0.0   0.0  0.0  0.0  0.0  0.0  0.0  0.0  0.0  0.0  \n",
       "2020-09-05  ...   0.0   0.0  0.0  0.0  0.0  0.0  0.0  0.0  0.0  0.0  \n",
       "2020-09-06  ...   0.0   0.0  0.0  0.0  0.0  0.0  0.0  0.0  0.0  0.0  \n",
       "2020-09-07  ...   0.0   0.0  0.0  0.0  0.0  0.0  0.0  0.0  0.0  0.0  \n",
       "2020-09-08  ...   0.0   0.0  0.0  0.0  0.0  0.0  0.0  0.0  0.0  0.0  \n",
       "2020-09-09  ...   0.0   0.0  0.0  0.0  0.0  0.0  0.0  0.0  0.0  0.0  \n",
       "2020-09-10  ...   0.0   0.0  0.0  0.0  0.0  0.0  0.0  0.0  0.0  0.0  \n",
       "2020-09-11  ...   0.0   0.0  0.0  0.0  0.0  0.0  0.0  0.0  0.0  0.0  \n",
       "2020-09-12  ...   0.0   0.0  0.0  0.0  0.0  0.0  0.0  0.0  0.0  0.0  \n",
       "2020-09-13  ...   0.0   0.0  0.0  0.0  0.0  0.0  0.0  0.0  0.0  0.0  \n",
       "2020-09-14  ...   0.0   0.0  0.0  0.0  0.0  0.0  0.0  0.0  0.0  0.0  \n",
       "2020-09-15  ...   0.0   0.0  0.0  0.0  0.0  0.0  0.0  0.0  0.0  0.0  \n",
       "2020-09-16  ...   0.0   0.0  0.0  0.0  0.0  0.0  0.0  0.0  0.0  0.0  \n",
       "2020-09-17  ...   0.0   0.0  0.0  0.0  0.0  0.0  0.0  0.0  0.0  0.0  \n",
       "2020-09-18  ...   0.0   0.0  0.0  0.0  0.0  0.0  0.0  0.0  0.0  0.0  \n",
       "2020-09-19  ...   0.0   0.0  0.0  0.0  0.0  0.0  0.0  0.0  0.0  0.0  \n",
       "2020-09-20  ...   0.0   0.0  0.0  0.0  0.0  0.0  0.0  0.0  0.0  0.0  \n",
       "2020-09-21  ...   0.0   0.0  0.0  0.0  0.0  0.0  0.0  0.0  0.0  0.0  \n",
       "2020-09-22  ...   0.0   0.0  0.0  0.0  0.0  0.0  0.0  0.0  0.0  0.0  \n",
       "2020-09-23  ...   0.0   0.0  0.0  0.0  0.0  0.0  0.0  0.0  0.0  0.0  \n",
       "\n",
       "[23 rows x 31 columns]"
      ]
     },
     "execution_count": 21,
     "metadata": {},
     "output_type": "execute_result"
    },
    {
     "data": {
      "image/png": "[encoded data removed]",
      "text/plain": [
       "<Figure size 1296x1008 with 2 Axes>"
      ]
     },
     "metadata": {
      "needs_background": "light"
     },
     "output_type": "display_data"
    }
   ],
   "source": [
    "retention_rate(vsa, '2020-09-01','2020-09-23').fillna(0)"
   ]
  },
  {
   "cell_type": "markdown",
   "metadata": {},
   "source": [
    "Функция, которая считает retention игроков (по дням от даты регистрации игрока)"
   ]
  },
  {
   "cell_type": "markdown",
   "metadata": {},
   "source": [
    "## ОПИСАНИЕ к 1 Заданию"
   ]
  },
  {
   "cell_type": "markdown",
   "metadata": {},
   "source": [
    "Выше представлена диаграмма за последний, не полный месяц. Чтобы посмотреть данные интересующих нас дат, в строке \"retention_rate(vsa, '2020-09-01', '2020-09-23').fillna(0)\", нужно поменять даты на интересующие."
   ]
  },
  {
   "cell_type": "markdown",
   "metadata": {},
   "source": [
    "## Задание 2"
   ]
  },
  {
   "cell_type": "markdown",
   "metadata": {},
   "source": [
    "Имеются результаты A/B теста, в котором двум группам пользователей предлагались различные наборы акционных предложений. Известно, что ARPU в тестовой группе выше на 5%, чем в контрольной. При этом в контрольной группе 1928 игроков из 202103 оказались платящими, а в тестовой – 1805 из 202667.\n",
    "\n",
    "Какой набор предложений можно считать лучшим? Какие метрики стоит проанализировать для принятия правильного решения и как?"
   ]
  },
  {
   "cell_type": "code",
   "execution_count": 22,
   "metadata": {},
   "outputs": [],
   "source": [
    "df2 = pd.read_csv('1__2.csv', sep =';')"
   ]
  },
  {
   "cell_type": "markdown",
   "metadata": {},
   "source": [
    "Выгружаем данные "
   ]
  },
  {
   "cell_type": "code",
   "execution_count": 23,
   "metadata": {},
   "outputs": [
    {
     "data": {
      "text/html": [
       "<div>\n",
       "<style scoped>\n",
       "    .dataframe tbody tr th:only-of-type {\n",
       "        vertical-align: middle;\n",
       "    }\n",
       "\n",
       "    .dataframe tbody tr th {\n",
       "        vertical-align: top;\n",
       "    }\n",
       "\n",
       "    .dataframe thead th {\n",
       "        text-align: right;\n",
       "    }\n",
       "</style>\n",
       "<table border=\"1\" class=\"dataframe\">\n",
       "  <thead>\n",
       "    <tr style=\"text-align: right;\">\n",
       "      <th></th>\n",
       "      <th>user_id</th>\n",
       "      <th>revenue</th>\n",
       "      <th>testgroup</th>\n",
       "    </tr>\n",
       "  </thead>\n",
       "  <tbody>\n",
       "    <tr>\n",
       "      <th>0</th>\n",
       "      <td>1</td>\n",
       "      <td>0</td>\n",
       "      <td>b</td>\n",
       "    </tr>\n",
       "    <tr>\n",
       "      <th>1</th>\n",
       "      <td>2</td>\n",
       "      <td>0</td>\n",
       "      <td>a</td>\n",
       "    </tr>\n",
       "    <tr>\n",
       "      <th>2</th>\n",
       "      <td>3</td>\n",
       "      <td>0</td>\n",
       "      <td>a</td>\n",
       "    </tr>\n",
       "    <tr>\n",
       "      <th>3</th>\n",
       "      <td>4</td>\n",
       "      <td>0</td>\n",
       "      <td>b</td>\n",
       "    </tr>\n",
       "    <tr>\n",
       "      <th>4</th>\n",
       "      <td>5</td>\n",
       "      <td>0</td>\n",
       "      <td>b</td>\n",
       "    </tr>\n",
       "    <tr>\n",
       "      <th>...</th>\n",
       "      <td>...</td>\n",
       "      <td>...</td>\n",
       "      <td>...</td>\n",
       "    </tr>\n",
       "    <tr>\n",
       "      <th>404765</th>\n",
       "      <td>404766</td>\n",
       "      <td>0</td>\n",
       "      <td>a</td>\n",
       "    </tr>\n",
       "    <tr>\n",
       "      <th>404766</th>\n",
       "      <td>404767</td>\n",
       "      <td>0</td>\n",
       "      <td>b</td>\n",
       "    </tr>\n",
       "    <tr>\n",
       "      <th>404767</th>\n",
       "      <td>404768</td>\n",
       "      <td>231</td>\n",
       "      <td>a</td>\n",
       "    </tr>\n",
       "    <tr>\n",
       "      <th>404768</th>\n",
       "      <td>404769</td>\n",
       "      <td>0</td>\n",
       "      <td>a</td>\n",
       "    </tr>\n",
       "    <tr>\n",
       "      <th>404769</th>\n",
       "      <td>404770</td>\n",
       "      <td>0</td>\n",
       "      <td>b</td>\n",
       "    </tr>\n",
       "  </tbody>\n",
       "</table>\n",
       "<p>404770 rows × 3 columns</p>\n",
       "</div>"
      ],
      "text/plain": [
       "        user_id  revenue testgroup\n",
       "0             1        0         b\n",
       "1             2        0         a\n",
       "2             3        0         a\n",
       "3             4        0         b\n",
       "4             5        0         b\n",
       "...         ...      ...       ...\n",
       "404765   404766        0         a\n",
       "404766   404767        0         b\n",
       "404767   404768      231         a\n",
       "404768   404769        0         a\n",
       "404769   404770        0         b\n",
       "\n",
       "[404770 rows x 3 columns]"
      ]
     },
     "execution_count": 23,
     "metadata": {},
     "output_type": "execute_result"
    }
   ],
   "source": [
    "df2"
   ]
  },
  {
   "cell_type": "markdown",
   "metadata": {},
   "source": [
    "## Проведем EDA"
   ]
  },
  {
   "cell_type": "code",
   "execution_count": 24,
   "metadata": {},
   "outputs": [
    {
     "name": "stdout",
     "output_type": "stream",
     "text": [
      "<class 'pandas.core.frame.DataFrame'>\n",
      "RangeIndex: 404770 entries, 0 to 404769\n",
      "Data columns (total 3 columns):\n",
      " #   Column     Non-Null Count   Dtype \n",
      "---  ------     --------------   ----- \n",
      " 0   user_id    404770 non-null  int64 \n",
      " 1   revenue    404770 non-null  int64 \n",
      " 2   testgroup  404770 non-null  object\n",
      "dtypes: int64(2), object(1)\n",
      "memory usage: 9.3+ MB\n"
     ]
    }
   ],
   "source": [
    "df2.info()"
   ]
  },
  {
   "cell_type": "code",
   "execution_count": 25,
   "metadata": {},
   "outputs": [
    {
     "data": {
      "text/plain": [
       "0"
      ]
     },
     "execution_count": 25,
     "metadata": {},
     "output_type": "execute_result"
    }
   ],
   "source": [
    "df2.duplicated().sum()"
   ]
  },
  {
   "cell_type": "markdown",
   "metadata": {},
   "source": [
    "По результату EDA набор данных состоит из 4 колонок: user_id, revenue, testgroup, purchases.\n",
    "\n",
    "В наборе данных 404770 наблюдений\n",
    "\n",
    "В наборе данных нет дубликатов и пропущенных значений"
   ]
  },
  {
   "cell_type": "code",
   "execution_count": 26,
   "metadata": {},
   "outputs": [],
   "source": [
    "tt = df2.query(\"testgroup == 'a'\")"
   ]
  },
  {
   "cell_type": "markdown",
   "metadata": {},
   "source": [
    "Выносим 'a' в отдельную таблицу"
   ]
  },
  {
   "cell_type": "code",
   "execution_count": 27,
   "metadata": {},
   "outputs": [
    {
     "data": {
      "text/html": [
       "<div>\n",
       "<style scoped>\n",
       "    .dataframe tbody tr th:only-of-type {\n",
       "        vertical-align: middle;\n",
       "    }\n",
       "\n",
       "    .dataframe tbody tr th {\n",
       "        vertical-align: top;\n",
       "    }\n",
       "\n",
       "    .dataframe thead th {\n",
       "        text-align: right;\n",
       "    }\n",
       "</style>\n",
       "<table border=\"1\" class=\"dataframe\">\n",
       "  <thead>\n",
       "    <tr style=\"text-align: right;\">\n",
       "      <th></th>\n",
       "      <th>user_id</th>\n",
       "      <th>revenue</th>\n",
       "      <th>testgroup</th>\n",
       "    </tr>\n",
       "  </thead>\n",
       "  <tbody>\n",
       "    <tr>\n",
       "      <th>1</th>\n",
       "      <td>2</td>\n",
       "      <td>0</td>\n",
       "      <td>a</td>\n",
       "    </tr>\n",
       "    <tr>\n",
       "      <th>2</th>\n",
       "      <td>3</td>\n",
       "      <td>0</td>\n",
       "      <td>a</td>\n",
       "    </tr>\n",
       "    <tr>\n",
       "      <th>9</th>\n",
       "      <td>10</td>\n",
       "      <td>0</td>\n",
       "      <td>a</td>\n",
       "    </tr>\n",
       "    <tr>\n",
       "      <th>10</th>\n",
       "      <td>11</td>\n",
       "      <td>0</td>\n",
       "      <td>a</td>\n",
       "    </tr>\n",
       "    <tr>\n",
       "      <th>11</th>\n",
       "      <td>12</td>\n",
       "      <td>0</td>\n",
       "      <td>a</td>\n",
       "    </tr>\n",
       "    <tr>\n",
       "      <th>...</th>\n",
       "      <td>...</td>\n",
       "      <td>...</td>\n",
       "      <td>...</td>\n",
       "    </tr>\n",
       "    <tr>\n",
       "      <th>404760</th>\n",
       "      <td>404761</td>\n",
       "      <td>0</td>\n",
       "      <td>a</td>\n",
       "    </tr>\n",
       "    <tr>\n",
       "      <th>404762</th>\n",
       "      <td>404763</td>\n",
       "      <td>0</td>\n",
       "      <td>a</td>\n",
       "    </tr>\n",
       "    <tr>\n",
       "      <th>404765</th>\n",
       "      <td>404766</td>\n",
       "      <td>0</td>\n",
       "      <td>a</td>\n",
       "    </tr>\n",
       "    <tr>\n",
       "      <th>404767</th>\n",
       "      <td>404768</td>\n",
       "      <td>231</td>\n",
       "      <td>a</td>\n",
       "    </tr>\n",
       "    <tr>\n",
       "      <th>404768</th>\n",
       "      <td>404769</td>\n",
       "      <td>0</td>\n",
       "      <td>a</td>\n",
       "    </tr>\n",
       "  </tbody>\n",
       "</table>\n",
       "<p>202103 rows × 3 columns</p>\n",
       "</div>"
      ],
      "text/plain": [
       "        user_id  revenue testgroup\n",
       "1             2        0         a\n",
       "2             3        0         a\n",
       "9            10        0         a\n",
       "10           11        0         a\n",
       "11           12        0         a\n",
       "...         ...      ...       ...\n",
       "404760   404761        0         a\n",
       "404762   404763        0         a\n",
       "404765   404766        0         a\n",
       "404767   404768      231         a\n",
       "404768   404769        0         a\n",
       "\n",
       "[202103 rows x 3 columns]"
      ]
     },
     "execution_count": 27,
     "metadata": {},
     "output_type": "execute_result"
    }
   ],
   "source": [
    "tt"
   ]
  },
  {
   "cell_type": "code",
   "execution_count": 28,
   "metadata": {},
   "outputs": [
    {
     "data": {
      "text/plain": [
       "5136189"
      ]
     },
     "execution_count": 28,
     "metadata": {},
     "output_type": "execute_result"
    }
   ],
   "source": [
    "tt.revenue.sum()"
   ]
  },
  {
   "cell_type": "markdown",
   "metadata": {},
   "source": [
    "Считаем сумму доходов 'a'"
   ]
  },
  {
   "cell_type": "code",
   "execution_count": 29,
   "metadata": {},
   "outputs": [],
   "source": [
    "tt2 = df2.query(\"testgroup == 'b'\")"
   ]
  },
  {
   "cell_type": "markdown",
   "metadata": {},
   "source": [
    "Выносим 'b' в отдельную таблицу"
   ]
  },
  {
   "cell_type": "code",
   "execution_count": 30,
   "metadata": {},
   "outputs": [
    {
     "data": {
      "text/html": [
       "<div>\n",
       "<style scoped>\n",
       "    .dataframe tbody tr th:only-of-type {\n",
       "        vertical-align: middle;\n",
       "    }\n",
       "\n",
       "    .dataframe tbody tr th {\n",
       "        vertical-align: top;\n",
       "    }\n",
       "\n",
       "    .dataframe thead th {\n",
       "        text-align: right;\n",
       "    }\n",
       "</style>\n",
       "<table border=\"1\" class=\"dataframe\">\n",
       "  <thead>\n",
       "    <tr style=\"text-align: right;\">\n",
       "      <th></th>\n",
       "      <th>user_id</th>\n",
       "      <th>revenue</th>\n",
       "      <th>testgroup</th>\n",
       "    </tr>\n",
       "  </thead>\n",
       "  <tbody>\n",
       "    <tr>\n",
       "      <th>0</th>\n",
       "      <td>1</td>\n",
       "      <td>0</td>\n",
       "      <td>b</td>\n",
       "    </tr>\n",
       "    <tr>\n",
       "      <th>3</th>\n",
       "      <td>4</td>\n",
       "      <td>0</td>\n",
       "      <td>b</td>\n",
       "    </tr>\n",
       "    <tr>\n",
       "      <th>4</th>\n",
       "      <td>5</td>\n",
       "      <td>0</td>\n",
       "      <td>b</td>\n",
       "    </tr>\n",
       "    <tr>\n",
       "      <th>5</th>\n",
       "      <td>6</td>\n",
       "      <td>0</td>\n",
       "      <td>b</td>\n",
       "    </tr>\n",
       "    <tr>\n",
       "      <th>6</th>\n",
       "      <td>7</td>\n",
       "      <td>0</td>\n",
       "      <td>b</td>\n",
       "    </tr>\n",
       "    <tr>\n",
       "      <th>...</th>\n",
       "      <td>...</td>\n",
       "      <td>...</td>\n",
       "      <td>...</td>\n",
       "    </tr>\n",
       "    <tr>\n",
       "      <th>404761</th>\n",
       "      <td>404762</td>\n",
       "      <td>0</td>\n",
       "      <td>b</td>\n",
       "    </tr>\n",
       "    <tr>\n",
       "      <th>404763</th>\n",
       "      <td>404764</td>\n",
       "      <td>0</td>\n",
       "      <td>b</td>\n",
       "    </tr>\n",
       "    <tr>\n",
       "      <th>404764</th>\n",
       "      <td>404765</td>\n",
       "      <td>0</td>\n",
       "      <td>b</td>\n",
       "    </tr>\n",
       "    <tr>\n",
       "      <th>404766</th>\n",
       "      <td>404767</td>\n",
       "      <td>0</td>\n",
       "      <td>b</td>\n",
       "    </tr>\n",
       "    <tr>\n",
       "      <th>404769</th>\n",
       "      <td>404770</td>\n",
       "      <td>0</td>\n",
       "      <td>b</td>\n",
       "    </tr>\n",
       "  </tbody>\n",
       "</table>\n",
       "<p>202667 rows × 3 columns</p>\n",
       "</div>"
      ],
      "text/plain": [
       "        user_id  revenue testgroup\n",
       "0             1        0         b\n",
       "3             4        0         b\n",
       "4             5        0         b\n",
       "5             6        0         b\n",
       "6             7        0         b\n",
       "...         ...      ...       ...\n",
       "404761   404762        0         b\n",
       "404763   404764        0         b\n",
       "404764   404765        0         b\n",
       "404766   404767        0         b\n",
       "404769   404770        0         b\n",
       "\n",
       "[202667 rows x 3 columns]"
      ]
     },
     "execution_count": 30,
     "metadata": {},
     "output_type": "execute_result"
    }
   ],
   "source": [
    "tt2"
   ]
  },
  {
   "cell_type": "code",
   "execution_count": 31,
   "metadata": {},
   "outputs": [
    {
     "data": {
      "text/plain": [
       "5421603"
      ]
     },
     "execution_count": 31,
     "metadata": {},
     "output_type": "execute_result"
    }
   ],
   "source": [
    "tt2.revenue.sum()"
   ]
  },
  {
   "cell_type": "markdown",
   "metadata": {},
   "source": [
    "Считаем сумму доходов 'b'"
   ]
  },
  {
   "cell_type": "code",
   "execution_count": 32,
   "metadata": {},
   "outputs": [
    {
     "data": {
      "text/plain": [
       "285414"
      ]
     },
     "execution_count": 32,
     "metadata": {},
     "output_type": "execute_result"
    }
   ],
   "source": [
    "tt2.revenue.sum() - tt.revenue.sum() "
   ]
  },
  {
   "cell_type": "markdown",
   "metadata": {},
   "source": [
    "По результатам суммирование таблица 'b' имеет выше доходность чем таблица 'a' на 285414"
   ]
  },
  {
   "cell_type": "markdown",
   "metadata": {},
   "source": [
    "## Теперь посмотрим на средний чек"
   ]
  },
  {
   "cell_type": "code",
   "execution_count": 33,
   "metadata": {},
   "outputs": [
    {
     "data": {
      "text/plain": [
       "2664.0"
      ]
     },
     "execution_count": 33,
     "metadata": {},
     "output_type": "execute_result"
    }
   ],
   "source": [
    "round(tt.query('revenue > 0')['revenue'].sum() / \n",
    "      tt.query('revenue > 0')['revenue'].count(),2)"
   ]
  },
  {
   "cell_type": "code",
   "execution_count": 34,
   "metadata": {},
   "outputs": [
    {
     "data": {
      "text/plain": [
       "3003.66"
      ]
     },
     "execution_count": 34,
     "metadata": {},
     "output_type": "execute_result"
    }
   ],
   "source": [
    "round(tt2.query('revenue > 0')['revenue'].sum() /\n",
    "      tt2.query('revenue > 0')['revenue'].count(),2)"
   ]
  },
  {
   "cell_type": "markdown",
   "metadata": {},
   "source": [
    "Среднее значение больше у 'b'"
   ]
  },
  {
   "cell_type": "markdown",
   "metadata": {},
   "source": [
    "## MAX значение"
   ]
  },
  {
   "cell_type": "code",
   "execution_count": 35,
   "metadata": {},
   "outputs": [
    {
     "data": {
      "text/plain": [
       "37433"
      ]
     },
     "execution_count": 35,
     "metadata": {},
     "output_type": "execute_result"
    }
   ],
   "source": [
    "tt.revenue.max()"
   ]
  },
  {
   "cell_type": "code",
   "execution_count": 36,
   "metadata": {},
   "outputs": [
    {
     "data": {
      "text/plain": [
       "4000"
      ]
     },
     "execution_count": 36,
     "metadata": {},
     "output_type": "execute_result"
    }
   ],
   "source": [
    "tt2.revenue.max()"
   ]
  },
  {
   "cell_type": "markdown",
   "metadata": {},
   "source": [
    "Получаем достаточно интересный результат. 'a' выигрывает 'b' по максимальной сумме. Из чего напрашивается вывод: в таблице 'a' меньше продаж, но они дороже"
   ]
  },
  {
   "cell_type": "markdown",
   "metadata": {},
   "source": [
    "## Посмотрим на медиану "
   ]
  },
  {
   "cell_type": "code",
   "execution_count": 37,
   "metadata": {},
   "outputs": [
    {
     "data": {
      "text/plain": [
       "311.0"
      ]
     },
     "execution_count": 37,
     "metadata": {},
     "output_type": "execute_result"
    }
   ],
   "source": [
    "tt.query('revenue > 0')['revenue'].median()"
   ]
  },
  {
   "cell_type": "code",
   "execution_count": 38,
   "metadata": {},
   "outputs": [
    {
     "data": {
      "text/plain": [
       "3022.0"
      ]
     },
     "execution_count": 38,
     "metadata": {},
     "output_type": "execute_result"
    }
   ],
   "source": [
    "tt2.query('revenue > 0')['revenue'].median()"
   ]
  },
  {
   "cell_type": "markdown",
   "metadata": {},
   "source": [
    "медиана b в разы больше a"
   ]
  },
  {
   "cell_type": "markdown",
   "metadata": {},
   "source": [
    "## Теперь посторим график 'квантия-квантиля' или же по-другому график нормальности"
   ]
  },
  {
   "cell_type": "code",
   "execution_count": 39,
   "metadata": {},
   "outputs": [
    {
     "data": {
      "image/png": "[encoded data removed]",
      "text/plain": [
       "<Figure size 432x288 with 1 Axes>"
      ]
     },
     "metadata": {
      "needs_background": "light"
     },
     "output_type": "display_data"
    }
   ],
   "source": [
    "measurements = np.random.normal(loc = 2500, scale = 1000, size = 150)\n",
    "stats.probplot(measurements, dist=\"norm\", plot=pylab)\n",
    "pylab.show()"
   ]
  },
  {
   "cell_type": "markdown",
   "metadata": {},
   "source": [
    "Не все кружки находятся на одной линии, что и доказывает ненормальность графика"
   ]
  },
  {
   "cell_type": "markdown",
   "metadata": {},
   "source": [
    "## Рассмотрим через pingouin\n",
    "Нулевая гипотеза - распределение нормальное\n",
    "\n",
    "Альтернативная гипотеза - распределение ненормальное"
   ]
  },
  {
   "cell_type": "code",
   "execution_count": 40,
   "metadata": {},
   "outputs": [
    {
     "data": {
      "text/html": [
       "<div>\n",
       "<style scoped>\n",
       "    .dataframe tbody tr th:only-of-type {\n",
       "        vertical-align: middle;\n",
       "    }\n",
       "\n",
       "    .dataframe tbody tr th {\n",
       "        vertical-align: top;\n",
       "    }\n",
       "\n",
       "    .dataframe thead th {\n",
       "        text-align: right;\n",
       "    }\n",
       "</style>\n",
       "<table border=\"1\" class=\"dataframe\">\n",
       "  <thead>\n",
       "    <tr style=\"text-align: right;\">\n",
       "      <th></th>\n",
       "      <th>W</th>\n",
       "      <th>pval</th>\n",
       "      <th>normal</th>\n",
       "    </tr>\n",
       "  </thead>\n",
       "  <tbody>\n",
       "    <tr>\n",
       "      <th>a</th>\n",
       "      <td>585152.731273</td>\n",
       "      <td>0.0</td>\n",
       "      <td>False</td>\n",
       "    </tr>\n",
       "  </tbody>\n",
       "</table>\n",
       "</div>"
      ],
      "text/plain": [
       "               W  pval  normal\n",
       "a  585152.731273   0.0   False"
      ]
     },
     "execution_count": 40,
     "metadata": {},
     "output_type": "execute_result"
    }
   ],
   "source": [
    "pg.normality(data=tt, dv = 'revenue', group = 'testgroup', method = 'normaltest')"
   ]
  },
  {
   "cell_type": "code",
   "execution_count": 41,
   "metadata": {},
   "outputs": [
    {
     "data": {
      "text/html": [
       "<div>\n",
       "<style scoped>\n",
       "    .dataframe tbody tr th:only-of-type {\n",
       "        vertical-align: middle;\n",
       "    }\n",
       "\n",
       "    .dataframe tbody tr th {\n",
       "        vertical-align: top;\n",
       "    }\n",
       "\n",
       "    .dataframe thead th {\n",
       "        text-align: right;\n",
       "    }\n",
       "</style>\n",
       "<table border=\"1\" class=\"dataframe\">\n",
       "  <thead>\n",
       "    <tr style=\"text-align: right;\">\n",
       "      <th></th>\n",
       "      <th>W</th>\n",
       "      <th>pval</th>\n",
       "      <th>normal</th>\n",
       "    </tr>\n",
       "  </thead>\n",
       "  <tbody>\n",
       "    <tr>\n",
       "      <th>b</th>\n",
       "      <td>326622.395409</td>\n",
       "      <td>0.0</td>\n",
       "      <td>False</td>\n",
       "    </tr>\n",
       "  </tbody>\n",
       "</table>\n",
       "</div>"
      ],
      "text/plain": [
       "               W  pval  normal\n",
       "b  326622.395409   0.0   False"
      ]
     },
     "execution_count": 41,
     "metadata": {},
     "output_type": "execute_result"
    }
   ],
   "source": [
    "pg.normality(data=tt2, dv = 'revenue', group = 'testgroup', method = 'normaltest')"
   ]
  },
  {
   "cell_type": "markdown",
   "metadata": {},
   "source": [
    "Тест является ненормальым "
   ]
  },
  {
   "cell_type": "markdown",
   "metadata": {},
   "source": [
    "## Гистограмма"
   ]
  },
  {
   "cell_type": "code",
   "execution_count": 42,
   "metadata": {},
   "outputs": [
    {
     "name": "stderr",
     "output_type": "stream",
     "text": [
      "/opt/tljh/user/lib/python3.7/site-packages/seaborn/distributions.py:2557: FutureWarning: `distplot` is a deprecated function and will be removed in a future version. Please adapt your code to use either `displot` (a figure-level function with similar flexibility) or `histplot` (an axes-level function for histograms).\n",
      "  warnings.warn(msg, FutureWarning)\n"
     ]
    },
    {
     "data": {
      "image/png": "[encoded data removed]",
      "text/plain": [
       "<Figure size 432x288 with 1 Axes>"
      ]
     },
     "metadata": {
      "needs_background": "light"
     },
     "output_type": "display_data"
    }
   ],
   "source": [
    "measurements = np.random.normal(loc = 2500, scale = 1000, size = 1500)\n",
    "ax = sns.distplot(measurements)"
   ]
  },
  {
   "cell_type": "markdown",
   "metadata": {},
   "source": [
    "гистограмма также показывает ненормальность графика"
   ]
  },
  {
   "cell_type": "markdown",
   "metadata": {},
   "source": [
    "## Посмотрим на результаты конверсии"
   ]
  },
  {
   "cell_type": "markdown",
   "metadata": {},
   "source": [
    "Создадим новую колонку и узнаем делал ли пользователь покупки или нет"
   ]
  },
  {
   "cell_type": "code",
   "execution_count": 43,
   "metadata": {},
   "outputs": [],
   "source": [
    "purchases = []\n",
    "for i in df2['revenue']:\n",
    "    if i == 0:\n",
    "        x = 'no'\n",
    "    else:\n",
    "        x = 'yes'\n",
    "    purchases.append(x) \n",
    "df2['purchases'] = purchases"
   ]
  },
  {
   "cell_type": "code",
   "execution_count": 44,
   "metadata": {},
   "outputs": [],
   "source": [
    "df21 = df2.drop('purchases', axis=1)"
   ]
  },
  {
   "cell_type": "markdown",
   "metadata": {},
   "source": [
    "Удаляем ненужную колонку "
   ]
  },
  {
   "cell_type": "code",
   "execution_count": 45,
   "metadata": {},
   "outputs": [
    {
     "data": {
      "text/html": [
       "<div>\n",
       "<style scoped>\n",
       "    .dataframe tbody tr th:only-of-type {\n",
       "        vertical-align: middle;\n",
       "    }\n",
       "\n",
       "    .dataframe tbody tr th {\n",
       "        vertical-align: top;\n",
       "    }\n",
       "\n",
       "    .dataframe thead th {\n",
       "        text-align: right;\n",
       "    }\n",
       "</style>\n",
       "<table border=\"1\" class=\"dataframe\">\n",
       "  <thead>\n",
       "    <tr style=\"text-align: right;\">\n",
       "      <th></th>\n",
       "      <th>user_id</th>\n",
       "      <th>revenue</th>\n",
       "      <th>testgroup</th>\n",
       "    </tr>\n",
       "  </thead>\n",
       "  <tbody>\n",
       "    <tr>\n",
       "      <th>0</th>\n",
       "      <td>1</td>\n",
       "      <td>0</td>\n",
       "      <td>b</td>\n",
       "    </tr>\n",
       "    <tr>\n",
       "      <th>1</th>\n",
       "      <td>2</td>\n",
       "      <td>0</td>\n",
       "      <td>a</td>\n",
       "    </tr>\n",
       "    <tr>\n",
       "      <th>2</th>\n",
       "      <td>3</td>\n",
       "      <td>0</td>\n",
       "      <td>a</td>\n",
       "    </tr>\n",
       "    <tr>\n",
       "      <th>3</th>\n",
       "      <td>4</td>\n",
       "      <td>0</td>\n",
       "      <td>b</td>\n",
       "    </tr>\n",
       "    <tr>\n",
       "      <th>4</th>\n",
       "      <td>5</td>\n",
       "      <td>0</td>\n",
       "      <td>b</td>\n",
       "    </tr>\n",
       "    <tr>\n",
       "      <th>...</th>\n",
       "      <td>...</td>\n",
       "      <td>...</td>\n",
       "      <td>...</td>\n",
       "    </tr>\n",
       "    <tr>\n",
       "      <th>404765</th>\n",
       "      <td>404766</td>\n",
       "      <td>0</td>\n",
       "      <td>a</td>\n",
       "    </tr>\n",
       "    <tr>\n",
       "      <th>404766</th>\n",
       "      <td>404767</td>\n",
       "      <td>0</td>\n",
       "      <td>b</td>\n",
       "    </tr>\n",
       "    <tr>\n",
       "      <th>404767</th>\n",
       "      <td>404768</td>\n",
       "      <td>231</td>\n",
       "      <td>a</td>\n",
       "    </tr>\n",
       "    <tr>\n",
       "      <th>404768</th>\n",
       "      <td>404769</td>\n",
       "      <td>0</td>\n",
       "      <td>a</td>\n",
       "    </tr>\n",
       "    <tr>\n",
       "      <th>404769</th>\n",
       "      <td>404770</td>\n",
       "      <td>0</td>\n",
       "      <td>b</td>\n",
       "    </tr>\n",
       "  </tbody>\n",
       "</table>\n",
       "<p>404770 rows × 3 columns</p>\n",
       "</div>"
      ],
      "text/plain": [
       "        user_id  revenue testgroup\n",
       "0             1        0         b\n",
       "1             2        0         a\n",
       "2             3        0         a\n",
       "3             4        0         b\n",
       "4             5        0         b\n",
       "...         ...      ...       ...\n",
       "404765   404766        0         a\n",
       "404766   404767        0         b\n",
       "404767   404768      231         a\n",
       "404768   404769        0         a\n",
       "404769   404770        0         b\n",
       "\n",
       "[404770 rows x 3 columns]"
      ]
     },
     "execution_count": 45,
     "metadata": {},
     "output_type": "execute_result"
    }
   ],
   "source": [
    "df21"
   ]
  },
  {
   "cell_type": "markdown",
   "metadata": {},
   "source": [
    "## Создадим график конверсии и разделим на группы 'a' и 'b'"
   ]
  },
  {
   "cell_type": "code",
   "execution_count": 46,
   "metadata": {},
   "outputs": [],
   "source": [
    "pp = df2.groupby(['purchases', 'testgroup'], as_index = False).agg({'user_id' : 'count'}) \\\n",
    "    .rename(columns = {'user_id' : 'count'}) \\\n",
    "    .sort_values('testgroup') \\\n",
    "    .reset_index(drop = True)"
   ]
  },
  {
   "cell_type": "code",
   "execution_count": 47,
   "metadata": {},
   "outputs": [],
   "source": [
    "pp['combination'] = pp['purchases'] + '_' + pp['testgroup']"
   ]
  },
  {
   "cell_type": "code",
   "execution_count": 48,
   "metadata": {},
   "outputs": [],
   "source": [
    "pp['percentage'] = round(pp['count'][:2] / pp['count'][:2].sum() * 100, 2)"
   ]
  },
  {
   "cell_type": "code",
   "execution_count": 49,
   "metadata": {},
   "outputs": [
    {
     "name": "stderr",
     "output_type": "stream",
     "text": [
      "/opt/tljh/user/lib/python3.7/site-packages/ipykernel_launcher.py:1: SettingWithCopyWarning: \n",
      "A value is trying to be set on a copy of a slice from a DataFrame\n",
      "\n",
      "See the caveats in the documentation: https://pandas.pydata.org/pandas-docs/stable/user_guide/indexing.html#returning-a-view-versus-a-copy\n",
      "  \"\"\"Entry point for launching an IPython kernel.\n",
      "/opt/tljh/user/lib/python3.7/site-packages/pandas/core/indexing.py:670: SettingWithCopyWarning: \n",
      "A value is trying to be set on a copy of a slice from a DataFrame\n",
      "\n",
      "See the caveats in the documentation: https://pandas.pydata.org/pandas-docs/stable/user_guide/indexing.html#returning-a-view-versus-a-copy\n",
      "  iloc._setitem_with_indexer(indexer, value)\n"
     ]
    }
   ],
   "source": [
    "pp['percentage'][2:] = round(pp['count'][2:] / pp['count'][2:].sum() * 100, 2)"
   ]
  },
  {
   "cell_type": "code",
   "execution_count": 50,
   "metadata": {},
   "outputs": [
    {
     "data": {
      "text/plain": [
       "Text(0.2, 1.2, 'Конверсия по группам')"
      ]
     },
     "execution_count": 50,
     "metadata": {},
     "output_type": "execute_result"
    },
    {
     "data": {
      "image/png": "[encoded data removed]",
      "text/plain": [
       "<Figure size 432x288 with 1 Axes>"
      ]
     },
     "metadata": {
      "needs_background": "light"
     },
     "output_type": "display_data"
    }
   ],
   "source": [
    "plt.barh(y = pp['combination'], width = pp['percentage'], color = ['#FFFF00', '#FFFF00', '#7FFFD4', '#7FFFD4'], height = 0.8,\n",
    "         edgecolor = 'black',\n",
    "         linewidth = 2)\n",
    "\n",
    "sns.despine(bottom = True)\n",
    "\n",
    "plt.xticks([])\n",
    "plt.yticks(color = 'black', fontsize = 16,  family = 'serif')\n",
    "\n",
    "for i in range(len(pp)):\n",
    "    plt.text(s = pp['percentage'][i], x = pp['percentage'][i] + 2, y = i, color = 'black', fontsize = 16, family = 'serif')\n",
    "    \n",
    "plt.title(label = 'Конверсия по группам',\n",
    "          color = 'black',\n",
    "          fontsize = 20,\n",
    "          x = 0.2,\n",
    "          y = 1.2,\n",
    "          family = 'serif')"
   ]
  },
  {
   "cell_type": "markdown",
   "metadata": {},
   "source": [
    "Из данного графика можно сделать вывод, что 'a' обгоняет 'b' на 0.06%  "
   ]
  },
  {
   "cell_type": "markdown",
   "metadata": {},
   "source": [
    "Нулевая гипотеза - есть стат. значимое влияние между группами 'a' и 'b'\n",
    "\n",
    "Альтернативная гипотеза - нет стат. значимого влияния между группами 'a' и 'b'"
   ]
  },
  {
   "cell_type": "markdown",
   "metadata": {},
   "source": [
    "Проверим с помощью хи-квадрата стат. значимость"
   ]
  },
  {
   "cell_type": "code",
   "execution_count": 51,
   "metadata": {},
   "outputs": [
    {
     "name": "stdout",
     "output_type": "stream",
     "text": [
      "Нулевая гипотеза отклоняется, есть стат. значимое влияние\n"
     ]
    }
   ],
   "source": [
    "alpha = 0.05\n",
    "stat, p = stats.chi2_contingency(pd.crosstab(df2['testgroup'], df2['purchases']))[:2]\n",
    "if p < alpha:\n",
    "    print('Нулевая гипотеза отклоняется, есть стат. значимое влияние')\n",
    "else:\n",
    "    print('Нулевая гипотеза не отклоняется, нет стат. значимого влияния')"
   ]
  },
  {
   "cell_type": "markdown",
   "metadata": {},
   "source": [
    "## ARPU"
   ]
  },
  {
   "cell_type": "code",
   "execution_count": 52,
   "metadata": {},
   "outputs": [
    {
     "data": {
      "text/plain": [
       "25.413719736965806"
      ]
     },
     "execution_count": 52,
     "metadata": {},
     "output_type": "execute_result"
    }
   ],
   "source": [
    "tt['revenue'].sum()/tt['user_id'].nunique()"
   ]
  },
  {
   "cell_type": "code",
   "execution_count": 53,
   "metadata": {},
   "outputs": [
    {
     "data": {
      "text/plain": [
       "26.75128659327863"
      ]
     },
     "execution_count": 53,
     "metadata": {},
     "output_type": "execute_result"
    }
   ],
   "source": [
    "tt2['revenue'].sum()/tt2['user_id'].nunique()"
   ]
  },
  {
   "cell_type": "markdown",
   "metadata": {},
   "source": [
    "## Чтобы определить имеется ли стат. значимая разница ARPU\\ARPPU между группами будем использовать t-test и bootstrap (mean).\n",
    "\n",
    "Применение данных методов обусловлено следующим:\n",
    "\n",
    "1) вышеуказанные методы проверяют наличие стат. значимой разницы метрики из задания\n",
    "\n",
    "2) кол-во наблюдений больше 30\n",
    "\n",
    "3) результаты t-test и bootstrap (mean) легче интерпретировать\n",
    "\n",
    "4) непараметрические методы не учитывают специфику распределений (в группе а имеют значительные группа пользователей, которые принесли в разы больше выручки, чем среднестатистический пользователь - не случайность)"
   ]
  },
  {
   "cell_type": "markdown",
   "metadata": {},
   "source": [
    "## Проведем t-тест для ARPU\n",
    "Нулевая гипотеза - есть стат. значимое влияние между группами 'a' и 'b'\n",
    "\n",
    "Альтернативная гипотеза - нет стат. значимого влияния между группами 'a' и 'b'"
   ]
  },
  {
   "cell_type": "code",
   "execution_count": 54,
   "metadata": {},
   "outputs": [
    {
     "name": "stdout",
     "output_type": "stream",
     "text": [
      "0.5329647014130866\n",
      "Нуелвая гипотеза о равенстве средних не отклонена\n"
     ]
    }
   ],
   "source": [
    "alpha = 0.05\n",
    "p = stats.ttest_ind(df21.query(\"testgroup == 'a'\")['revenue'], df21.query(\"testgroup == 'b'\")['revenue'], \n",
    "                    equal_var = False)[1]\n",
    "print(p)\n",
    "if p < alpha:\n",
    "    print('Нулевая гипотеза о равенстве средних отклонена')\n",
    "else:\n",
    "    print('Нуелвая гипотеза о равенстве средних не отклонена')"
   ]
  },
  {
   "cell_type": "markdown",
   "metadata": {},
   "source": [
    "t-тест показал, что стат.значимых различий между ARPU группами 'a' и 'b' нет"
   ]
  },
  {
   "cell_type": "markdown",
   "metadata": {},
   "source": [
    "## Построим bootstrap для ARPU\n",
    "Нулевая гипотеза - есть стат. значимое влияние между группами 'a' и 'b'\n",
    "\n",
    "Альтернативная гипотеза - нет стат. значимого влияния между группами 'a' и 'b'"
   ]
  },
  {
   "cell_type": "code",
   "execution_count": 55,
   "metadata": {},
   "outputs": [
    {
     "data": {
      "text/html": [
       "<div>\n",
       "<style scoped>\n",
       "    .dataframe tbody tr th:only-of-type {\n",
       "        vertical-align: middle;\n",
       "    }\n",
       "\n",
       "    .dataframe tbody tr th {\n",
       "        vertical-align: top;\n",
       "    }\n",
       "\n",
       "    .dataframe thead th {\n",
       "        text-align: right;\n",
       "    }\n",
       "</style>\n",
       "<table border=\"1\" class=\"dataframe\">\n",
       "  <thead>\n",
       "    <tr style=\"text-align: right;\">\n",
       "      <th></th>\n",
       "      <th>user_id</th>\n",
       "      <th>revenue</th>\n",
       "      <th>testgroup</th>\n",
       "    </tr>\n",
       "  </thead>\n",
       "  <tbody>\n",
       "    <tr>\n",
       "      <th>381229</th>\n",
       "      <td>381230</td>\n",
       "      <td>0</td>\n",
       "      <td>a</td>\n",
       "    </tr>\n",
       "    <tr>\n",
       "      <th>179739</th>\n",
       "      <td>179740</td>\n",
       "      <td>0</td>\n",
       "      <td>a</td>\n",
       "    </tr>\n",
       "    <tr>\n",
       "      <th>81654</th>\n",
       "      <td>81655</td>\n",
       "      <td>0</td>\n",
       "      <td>a</td>\n",
       "    </tr>\n",
       "    <tr>\n",
       "      <th>188448</th>\n",
       "      <td>188449</td>\n",
       "      <td>0</td>\n",
       "      <td>a</td>\n",
       "    </tr>\n",
       "    <tr>\n",
       "      <th>247357</th>\n",
       "      <td>247358</td>\n",
       "      <td>0</td>\n",
       "      <td>a</td>\n",
       "    </tr>\n",
       "    <tr>\n",
       "      <th>...</th>\n",
       "      <td>...</td>\n",
       "      <td>...</td>\n",
       "      <td>...</td>\n",
       "    </tr>\n",
       "    <tr>\n",
       "      <th>317456</th>\n",
       "      <td>317457</td>\n",
       "      <td>0</td>\n",
       "      <td>a</td>\n",
       "    </tr>\n",
       "    <tr>\n",
       "      <th>280657</th>\n",
       "      <td>280658</td>\n",
       "      <td>0</td>\n",
       "      <td>a</td>\n",
       "    </tr>\n",
       "    <tr>\n",
       "      <th>25589</th>\n",
       "      <td>25590</td>\n",
       "      <td>0</td>\n",
       "      <td>a</td>\n",
       "    </tr>\n",
       "    <tr>\n",
       "      <th>22928</th>\n",
       "      <td>22929</td>\n",
       "      <td>0</td>\n",
       "      <td>a</td>\n",
       "    </tr>\n",
       "    <tr>\n",
       "      <th>335801</th>\n",
       "      <td>335802</td>\n",
       "      <td>0</td>\n",
       "      <td>a</td>\n",
       "    </tr>\n",
       "  </tbody>\n",
       "</table>\n",
       "<p>202103 rows × 3 columns</p>\n",
       "</div>"
      ],
      "text/plain": [
       "        user_id  revenue testgroup\n",
       "381229   381230        0         a\n",
       "179739   179740        0         a\n",
       "81654     81655        0         a\n",
       "188448   188449        0         a\n",
       "247357   247358        0         a\n",
       "...         ...      ...       ...\n",
       "317456   317457        0         a\n",
       "280657   280658        0         a\n",
       "25589     25590        0         a\n",
       "22928     22929        0         a\n",
       "335801   335802        0         a\n",
       "\n",
       "[202103 rows x 3 columns]"
      ]
     },
     "execution_count": 55,
     "metadata": {},
     "output_type": "execute_result"
    }
   ],
   "source": [
    "tt.sample(frac = 1, replace = True)"
   ]
  },
  {
   "cell_type": "markdown",
   "metadata": {},
   "source": [
    "выборка с повторениями\n",
    "\n",
    "создадим гистограмму"
   ]
  },
  {
   "cell_type": "code",
   "execution_count": 56,
   "metadata": {},
   "outputs": [],
   "source": [
    "def get_bootstrap(data_column_1, data_column_2, boot_it = 1000, statistic = np.mean, bootstrap_conf_level = 0.95):\n",
    "    boot_len = max([len(data_column_1), len(data_column_2)])\n",
    "    boot_data = []\n",
    "    for i in tqdm(range(boot_it)): \n",
    "        samples_1 = data_column_1.sample(boot_len, replace = True).values\n",
    "        \n",
    "        samples_2 = data_column_2.sample(boot_len, replace = True).values\n",
    "        \n",
    "        boot_data.append(statistic(samples_1-samples_2)) \n",
    "    pd_boot_data = pd.DataFrame(boot_data)\n",
    "        \n",
    "    left_quant = (1 - bootstrap_conf_level)/2\n",
    "    right_quant = 1 - (1 - bootstrap_conf_level) / 2\n",
    "    quants = pd_boot_data.quantile([left_quant, right_quant])\n",
    "        \n",
    "    qq1 = norm.cdf(x = 0, loc = np.mean(boot_data), scale = np.std(boot_data))\n",
    "    \n",
    "    qq2 = norm.cdf(x = 0, loc = -np.mean(boot_data), scale = np.std(boot_data))\n",
    "    p_value = min(qq1, qq2)* 2\n",
    "        \n",
    "    _, _, bars = plt.hist(pd_boot_data[0], bins = 50)\n",
    "    for bar in bars:\n",
    "        if abs(bar.get_x()) <= quants.iloc[0][0] or abs(bar.get_x()) >= quants.iloc[1][0]:\n",
    "            bar.set_facecolor('#FFFF00')\n",
    "        else: \n",
    "            bar.set_facecolor('#7FFFD4')\n",
    "            bar.set_edgecolor('black')\n",
    "       \n",
    "    return {\"boot_data\": boot_data, \"quants\": quants, \"p_value\": p_value}"
   ]
  },
  {
   "cell_type": "code",
   "execution_count": 57,
   "metadata": {},
   "outputs": [
    {
     "data": {
      "application/vnd.jupyter.widget-view+json": {
       "model_id": "eda743828c044e68a6f48b3bc3e48222",
       "version_major": 2,
       "version_minor": 0
      },
      "text/plain": [
       "HBox(children=(FloatProgress(value=0.0), HTML(value='')))"
      ]
     },
     "metadata": {},
     "output_type": "display_data"
    },
    {
     "name": "stdout",
     "output_type": "stream",
     "text": [
      "\n"
     ]
    },
    {
     "data": {
      "image/png": "[encoded data removed]",
      "text/plain": [
       "<Figure size 432x288 with 1 Axes>"
      ]
     },
     "metadata": {
      "needs_background": "light"
     },
     "output_type": "display_data"
    }
   ],
   "source": [
    "ARPU_bootstrap = get_bootstrap(tt.revenue, tt2.revenue, boot_it = 100, statistic = np.mean)"
   ]
  },
  {
   "cell_type": "code",
   "execution_count": 58,
   "metadata": {},
   "outputs": [
    {
     "data": {
      "text/plain": [
       "0.5024077350207505"
      ]
     },
     "execution_count": 58,
     "metadata": {},
     "output_type": "execute_result"
    }
   ],
   "source": [
    "ARPU_bootstrap['p_value']"
   ]
  },
  {
   "cell_type": "markdown",
   "metadata": {},
   "source": [
    "Ноль входит в доверительный интервал и значение p_value > 0.05 значит нет поводов отклонять H0 Статзначимых различий не обнаружено"
   ]
  },
  {
   "cell_type": "markdown",
   "metadata": {},
   "source": [
    "## ARPPU"
   ]
  },
  {
   "cell_type": "code",
   "execution_count": 59,
   "metadata": {},
   "outputs": [
    {
     "data": {
      "text/plain": [
       "2663.9984439834025"
      ]
     },
     "execution_count": 59,
     "metadata": {},
     "output_type": "execute_result"
    }
   ],
   "source": [
    "tt.query(\"revenue > 0\")['revenue'].sum()/tt.query(\"revenue > 0\")['user_id'].nunique()"
   ]
  },
  {
   "cell_type": "code",
   "execution_count": 60,
   "metadata": {},
   "outputs": [
    {
     "data": {
      "text/plain": [
       "3003.6581717451522"
      ]
     },
     "execution_count": 60,
     "metadata": {},
     "output_type": "execute_result"
    }
   ],
   "source": [
    "tt2.query(\"revenue > 0\")['revenue'].sum()/tt2.query(\"revenue > 0\")['user_id'].nunique()"
   ]
  },
  {
   "cell_type": "markdown",
   "metadata": {},
   "source": [
    "## Проведем t-тест для ARPPU\n",
    "Нулевая гипотеза - есть стат. значимое влияние между группами 'a' и 'b'\n",
    "\n",
    "Альтернативная гипотеза - нет стат. значимого влияния между группами 'a' и 'b'"
   ]
  },
  {
   "cell_type": "code",
   "execution_count": 61,
   "metadata": {},
   "outputs": [
    {
     "name": "stdout",
     "output_type": "stream",
     "text": [
      "0.10020780398916015\n",
      "Нуелвая гипотеза о равенстве средних не отклонена\n"
     ]
    }
   ],
   "source": [
    "p = stats.ttest_ind(df21.query(\"testgroup == 'a' & revenue > 0\")['revenue'], df21.query(\"testgroup == 'b' & revenue > 0\")['revenue'], \n",
    "                    equal_var = False)[1]\n",
    "print(p)\n",
    "if p < alpha:\n",
    "    print('Нулевая гипотеза о равенстве средних отклонена')\n",
    "else:\n",
    "    print('Нуелвая гипотеза о равенстве средних не отклонена')"
   ]
  },
  {
   "cell_type": "markdown",
   "metadata": {},
   "source": [
    "t-тест показал, что стат.значимых различий между ARRPU группами 'a' и 'b' нет"
   ]
  },
  {
   "cell_type": "markdown",
   "metadata": {},
   "source": [
    "## Построим bootstrap для ARPPU\n",
    "Нулевая гипотеза - есть стат. значимое влияние между группами 'a' и 'b'\n",
    "\n",
    "Альтернативная гипотеза - нет стат. значимого влияния между группами 'a' и 'b'"
   ]
  },
  {
   "cell_type": "code",
   "execution_count": 62,
   "metadata": {},
   "outputs": [
    {
     "data": {
      "application/vnd.jupyter.widget-view+json": {
       "model_id": "c51cc5e75a4b4c3b8f995c1c82cd10e8",
       "version_major": 2,
       "version_minor": 0
      },
      "text/plain": [
       "HBox(children=(FloatProgress(value=0.0, max=1000.0), HTML(value='')))"
      ]
     },
     "metadata": {},
     "output_type": "display_data"
    },
    {
     "name": "stdout",
     "output_type": "stream",
     "text": [
      "\n"
     ]
    },
    {
     "data": {
      "image/png": "[encoded data removed]",
      "text/plain": [
       "<Figure size 432x288 with 1 Axes>"
      ]
     },
     "metadata": {
      "needs_background": "light"
     },
     "output_type": "display_data"
    }
   ],
   "source": [
    "ARPPU_bootstrap = get_bootstrap(tt.query('revenue > 0').revenue, tt2.query('revenue > 0').revenue,\n",
    "                              boot_it = 1000, statistic = np.mean)"
   ]
  },
  {
   "cell_type": "code",
   "execution_count": 63,
   "metadata": {},
   "outputs": [
    {
     "data": {
      "text/plain": [
       "0.11567465198315548"
      ]
     },
     "execution_count": 63,
     "metadata": {},
     "output_type": "execute_result"
    }
   ],
   "source": [
    "ARPPU_bootstrap['p_value']"
   ]
  },
  {
   "cell_type": "markdown",
   "metadata": {},
   "source": [
    "Ноль входит в доверительный интервал и значение p_value > 0.05 значит нет поводов отклонять H0 Статзначимых различий не обнаружено"
   ]
  },
  {
   "cell_type": "markdown",
   "metadata": {},
   "source": [
    "## Посчитаем выручку по группам"
   ]
  },
  {
   "cell_type": "code",
   "execution_count": 64,
   "metadata": {},
   "outputs": [
    {
     "name": "stderr",
     "output_type": "stream",
     "text": [
      "/opt/tljh/user/lib/python3.7/site-packages/seaborn/_decorators.py:43: FutureWarning: Pass the following variable as a keyword arg: x. From version 0.12, the only valid positional argument will be `data`, and passing other arguments without an explicit keyword will result in an error or misinterpretation.\n",
      "  FutureWarning\n",
      "/opt/tljh/user/lib/python3.7/site-packages/seaborn/_decorators.py:43: FutureWarning: Pass the following variable as a keyword arg: x. From version 0.12, the only valid positional argument will be `data`, and passing other arguments without an explicit keyword will result in an error or misinterpretation.\n",
      "  FutureWarning\n"
     ]
    },
    {
     "data": {
      "image/png": "[encoded data removed]",
      "text/plain": [
       "<Figure size 1080x360 with 2 Axes>"
      ]
     },
     "metadata": {
      "needs_background": "light"
     },
     "output_type": "display_data"
    }
   ],
   "source": [
    "fig = plt.figure(figsize = (15, 5))\n",
    "\n",
    "ax0 = fig.add_axes([0, 0, 0.7, 0.7])\n",
    "ax1 = fig.add_axes([0, -1, 0.7, 0.7])\n",
    "\n",
    "sns.violinplot(df2.query(\"testgroup == 'a' & revenue > 0\")['revenue'], ax = ax0, color = '#7FFFD4', edgecolor = 'black', linewidth = 6)\n",
    "sns.violinplot(df2.query(\"testgroup == 'b' & revenue > 0\")['revenue'], ax = ax1, color = '#FFFF00', edgecolor = 'black', linewidth = 6)\n",
    "\n",
    "ax0.set_xlabel(' ')\n",
    "ax1.set_xlabel(' ')\n",
    "\n",
    "ax0.set_ylabel('group a', fontsize = 16, family = 'serif')\n",
    "ax1.set_ylabel('group b', fontsize = 16, family = 'serif')\n",
    "\n",
    "ax0.tick_params(length = 0, width = 0, colors = 'black', labelsize = 14)\n",
    "ax1.tick_params(length = 0, width = 0, colors = 'black', grid_color = 'black', labelsize = 14)\n",
    "\n",
    "\n",
    "sns.despine()\n",
    "\n",
    "ax0.set_title(label = 'Выручка групп', color = 'black', fontsize = 16, x = 0.05, y = 1.2, family = 'serif')\n",
    "\n",
    "plt.show()"
   ]
  },
  {
   "cell_type": "markdown",
   "metadata": {},
   "source": [
    "## Рассмотрим графики подробнее"
   ]
  },
  {
   "cell_type": "markdown",
   "metadata": {},
   "source": [
    "В графике 'a' размах выручки больше чем на графике 'b' (пользователи совершают либо очень дешевые покупки, либо очень дорогие), но в графике 'b' выручка более равномерная и стабильная."
   ]
  },
  {
   "cell_type": "markdown",
   "metadata": {},
   "source": [
    "## ИТОГ:"
   ]
  },
  {
   "cell_type": "markdown",
   "metadata": {},
   "source": [
    "1) По результатам суммирование таблица 'b' имеет выше доходность чем таблица 'a' на 285414"
   ]
  },
  {
   "cell_type": "markdown",
   "metadata": {},
   "source": [
    "2) Среднее значение больше у 'b'"
   ]
  },
  {
   "cell_type": "markdown",
   "metadata": {},
   "source": [
    "3) Получаем достаточно интересный результат. 'a' выигрывает 'b' по максимальной сумме. Из чего напрашивается вывод: в таблице 'a' меньше продаж, но они дороже"
   ]
  },
  {
   "cell_type": "markdown",
   "metadata": {},
   "source": [
    "4) медиана b в разы больше a"
   ]
  },
  {
   "cell_type": "markdown",
   "metadata": {},
   "source": [
    "5) По результатам конверсии стало извсетно, что 'a' обгоняет 'b' на 0.06%  "
   ]
  },
  {
   "cell_type": "markdown",
   "metadata": {},
   "source": [
    "6) В ARPU и ARPPU результат одинаковый, где 'b' > 'a'"
   ]
  },
  {
   "cell_type": "markdown",
   "metadata": {},
   "source": [
    "7) Выручка по группам. В графике 'a' размах выручки больше чем на графике 'b' (пользователи совершают либо очень дешевые покупки, либо очень дорогие), но в графике 'b' выручка более равномерная и стабильная."
   ]
  },
  {
   "cell_type": "markdown",
   "metadata": {},
   "source": [
    "8) график 'квантия-квантиля' или же по-другому график нормальности также доказал, что не все кружки находятся на одной линии, что в свою очередь и доказывает ненормальность графика"
   ]
  },
  {
   "cell_type": "markdown",
   "metadata": {},
   "source": [
    "9) По pingouin тест также является ненормальным"
   ]
  },
  {
   "cell_type": "markdown",
   "metadata": {},
   "source": [
    "10) bootstrap показал, что p_value > 0.05 значит нет поводов отклонять."
   ]
  },
  {
   "cell_type": "markdown",
   "metadata": {},
   "source": [
    "## ВЫВОД"
   ]
  },
  {
   "cell_type": "markdown",
   "metadata": {},
   "source": [
    "Исходя из всего вышеперечисленного, вариант 'b' намного более удачный для реализации и его по праву можно считать лучшим. Но при этом корректность проведенного эксперимента весьма сомнительна - т.к. в группах разные, непересекающиеся сегменты пользователей по величине оплат и наиболее вероятно, что дизайн эксперимента нарушен и сплитование проведено некорректно. "
   ]
  },
  {
   "cell_type": "markdown",
   "metadata": {},
   "source": [
    "## Задание 3\n",
    "В игре Plants & Gardens каждый месяц проводятся тематические события, ограниченные по времени. В них игроки могут получить уникальные предметы для сада и персонажей, дополнительные монеты или бонусы. Для получения награды требуется пройти ряд уровней за определенное время. С помощью каких метрик можно оценить результаты последнего прошедшего события?\n",
    "\n",
    "Предположим, в другом событии мы усложнили механику событий так, что при каждой неудачной попытке выполнения уровня игрок будет откатываться на несколько уровней назад. Изменится ли набор метрик оценки результата? Если да, то как?"
   ]
  },
  {
   "cell_type": "markdown",
   "metadata": {},
   "source": [
    "## Метрики с помощью которых можно оценить результаты последнего прошедшего события:        "
   ]
  },
  {
   "cell_type": "markdown",
   "metadata": {},
   "source": [
    "1) Конкретное число участников последнего события в игре - благодоря данной метрики можно узнать популярность данного эвента (метрика роста)"
   ]
  },
  {
   "cell_type": "markdown",
   "metadata": {},
   "source": [
    "2) Игроки получишвшие приз в данном эвенте - метрика показывает актуальность обновы и колличество пользовотель заинтересованных в награде (метрика продукта)"
   ]
  },
  {
   "cell_type": "markdown",
   "metadata": {},
   "source": [
    "3) Также подойдет метрика DAU, с помощью которой можно сравнить количествово пользователей в тематические дни и в обычные. (метрика роста)"
   ]
  },
  {
   "cell_type": "markdown",
   "metadata": {},
   "source": [
    "4) Время препрвождения в игре в обычные дни и в тематическом событии - метрика ASL (метрика продукта)"
   ]
  },
  {
   "cell_type": "markdown",
   "metadata": {},
   "source": [
    "5) В какое время суток больше всего онлайна - метрика ACU (метрика роста)"
   ]
  },
  {
   "cell_type": "markdown",
   "metadata": {},
   "source": [
    "5) Новая аудитория, метрика конверсии - позволят определить как проведение тематических событий сказывавается на её привлечении. (метрика продукта)"
   ]
  },
  {
   "cell_type": "markdown",
   "metadata": {},
   "source": [
    "6) Отзывы игроков и обратная свзязь - узнать о багах игры (метрика продукта)"
   ]
  },
  {
   "cell_type": "markdown",
   "metadata": {},
   "source": [
    "7) Чаще всего прохождаемые уровни в игре - данная метрика позволит узнать, что интересно игрокам (метрика роста)"
   ]
  },
  {
   "cell_type": "markdown",
   "metadata": {},
   "source": [
    "8) Самые не прохождаемые уровни в игре - данная метрика позволит узнать, что игракам не нравится (метрика роста)"
   ]
  },
  {
   "cell_type": "markdown",
   "metadata": {},
   "source": [
    "## Метрики с помощью которых можно оценить результаты последнего прошедшего события (после обновы):"
   ]
  },
  {
   "cell_type": "markdown",
   "metadata": {},
   "source": [
    "При таком серьезном патче, где игроки будут при каждой неудачной попытке выполнения уровня откатываться на несколько уровней назад игра потеряет число пользователей из чего можно сделать вывод, что данная обнова неудачная "
   ]
  },
  {
   "cell_type": "markdown",
   "metadata": {},
   "source": [
    "Добавятся новые метрики такие как:"
   ]
  },
  {
   "cell_type": "markdown",
   "metadata": {},
   "source": [
    "1) Число пользователей покинувших игру после обновления (метрика роста)"
   ]
  },
  {
   "cell_type": "markdown",
   "metadata": {},
   "source": [
    "2) Уменьшится число скачиваний в PlayMarket и App Store псоле обновы (метрика роста)"
   ]
  },
  {
   "cell_type": "markdown",
   "metadata": {},
   "source": [
    "3) Уменьшится время сессии в игре - ASL (метрика продутка)"
   ]
  },
  {
   "cell_type": "markdown",
   "metadata": {},
   "source": [
    "4) Яркие негативные коментарии пользователей)) (метрика продутка)"
   ]
  },
  {
   "cell_type": "markdown",
   "metadata": {},
   "source": [
    "## ВЫВОД"
   ]
  },
  {
   "cell_type": "markdown",
   "metadata": {},
   "source": [
    "Если игра существет определеное время на рынке и она имеет определенную популярность у людей, то нужно прислушываться к аудитории (быть с ней на одной волне). НЕЛЬЗЯ добавлять 'дизбаланс' игре, особено если игра является 'Инди'. В таких играх делать уровни негативные для пользователя просто недопустимо, человек просто перстанет в нее играть и уйдет к вашему оппоненту."
   ]
  }
 ],
 "metadata": {
  "kernelspec": {
   "display_name": "Python 3",
   "language": "python",
   "name": "python3"
  },
  "language_info": {
   "codemirror_mode": {
    "name": "ipython",
    "version": 3
   },
   "file_extension": ".py",
   "mimetype": "text/x-python",
   "name": "python",
   "nbconvert_exporter": "python",
   "pygments_lexer": "ipython3",
   "version": "3.7.3"
  }
 },
 "nbformat": 4,
 "nbformat_minor": 4
}
